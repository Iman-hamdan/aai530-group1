{
 "cells": [
  {
   "cell_type": "markdown",
   "metadata": {},
   "source": [
    "## Library Installation\n",
    "Ensure all required libraries are installed before running further cells.\n"
   ]
  },
  {
   "cell_type": "code",
   "execution_count": 10,
   "metadata": {},
   "outputs": [
    {
     "name": "stdout",
     "output_type": "stream",
     "text": [
      "Requirement already satisfied: pandas in /opt/homebrew/lib/python3.10/site-packages (2.2.3)\n",
      "Requirement already satisfied: numpy>=1.22.4 in /opt/homebrew/lib/python3.10/site-packages (from pandas) (2.0.2)\n",
      "Requirement already satisfied: python-dateutil>=2.8.2 in /Users/imanhamdan/Library/Python/3.10/lib/python/site-packages (from pandas) (2.9.0.post0)\n",
      "Requirement already satisfied: pytz>=2020.1 in /opt/homebrew/lib/python3.10/site-packages (from pandas) (2025.1)\n",
      "Requirement already satisfied: tzdata>=2022.7 in /opt/homebrew/lib/python3.10/site-packages (from pandas) (2025.1)\n",
      "Requirement already satisfied: six>=1.5 in /Users/imanhamdan/Library/Python/3.10/lib/python/site-packages (from python-dateutil>=2.8.2->pandas) (1.17.0)\n",
      "\n",
      "\u001b[1m[\u001b[0m\u001b[34;49mnotice\u001b[0m\u001b[1;39;49m]\u001b[0m\u001b[39;49m A new release of pip is available: \u001b[0m\u001b[31;49m24.3.1\u001b[0m\u001b[39;49m -> \u001b[0m\u001b[32;49m25.0\u001b[0m\n",
      "\u001b[1m[\u001b[0m\u001b[34;49mnotice\u001b[0m\u001b[1;39;49m]\u001b[0m\u001b[39;49m To update, run: \u001b[0m\u001b[32;49mpython3.10 -m pip install --upgrade pip\u001b[0m\n",
      "Note: you may need to restart the kernel to use updated packages.\n",
      "Requirement already satisfied: matplotlib in /opt/homebrew/lib/python3.10/site-packages (3.10.0)\n",
      "Requirement already satisfied: contourpy>=1.0.1 in /opt/homebrew/lib/python3.10/site-packages (from matplotlib) (1.3.1)\n",
      "Requirement already satisfied: cycler>=0.10 in /opt/homebrew/lib/python3.10/site-packages (from matplotlib) (0.12.1)\n",
      "Requirement already satisfied: fonttools>=4.22.0 in /opt/homebrew/lib/python3.10/site-packages (from matplotlib) (4.56.0)\n",
      "Requirement already satisfied: kiwisolver>=1.3.1 in /opt/homebrew/lib/python3.10/site-packages (from matplotlib) (1.4.8)\n",
      "Requirement already satisfied: numpy>=1.23 in /opt/homebrew/lib/python3.10/site-packages (from matplotlib) (2.0.2)\n",
      "Requirement already satisfied: packaging>=20.0 in /Users/imanhamdan/Library/Python/3.10/lib/python/site-packages (from matplotlib) (24.2)\n",
      "Requirement already satisfied: pillow>=8 in /opt/homebrew/lib/python3.10/site-packages (from matplotlib) (11.1.0)\n",
      "Requirement already satisfied: pyparsing>=2.3.1 in /opt/homebrew/lib/python3.10/site-packages (from matplotlib) (3.2.1)\n",
      "Requirement already satisfied: python-dateutil>=2.7 in /Users/imanhamdan/Library/Python/3.10/lib/python/site-packages (from matplotlib) (2.9.0.post0)\n",
      "Requirement already satisfied: six>=1.5 in /Users/imanhamdan/Library/Python/3.10/lib/python/site-packages (from python-dateutil>=2.7->matplotlib) (1.17.0)\n",
      "\n",
      "\u001b[1m[\u001b[0m\u001b[34;49mnotice\u001b[0m\u001b[1;39;49m]\u001b[0m\u001b[39;49m A new release of pip is available: \u001b[0m\u001b[31;49m24.3.1\u001b[0m\u001b[39;49m -> \u001b[0m\u001b[32;49m25.0\u001b[0m\n",
      "\u001b[1m[\u001b[0m\u001b[34;49mnotice\u001b[0m\u001b[1;39;49m]\u001b[0m\u001b[39;49m To update, run: \u001b[0m\u001b[32;49mpython3.10 -m pip install --upgrade pip\u001b[0m\n",
      "Note: you may need to restart the kernel to use updated packages.\n",
      "Requirement already satisfied: seaborn in /opt/homebrew/lib/python3.10/site-packages (0.13.2)\n",
      "Requirement already satisfied: numpy!=1.24.0,>=1.20 in /opt/homebrew/lib/python3.10/site-packages (from seaborn) (2.0.2)\n",
      "Requirement already satisfied: pandas>=1.2 in /opt/homebrew/lib/python3.10/site-packages (from seaborn) (2.2.3)\n",
      "Requirement already satisfied: matplotlib!=3.6.1,>=3.4 in /opt/homebrew/lib/python3.10/site-packages (from seaborn) (3.10.0)\n",
      "Requirement already satisfied: contourpy>=1.0.1 in /opt/homebrew/lib/python3.10/site-packages (from matplotlib!=3.6.1,>=3.4->seaborn) (1.3.1)\n",
      "Requirement already satisfied: cycler>=0.10 in /opt/homebrew/lib/python3.10/site-packages (from matplotlib!=3.6.1,>=3.4->seaborn) (0.12.1)\n",
      "Requirement already satisfied: fonttools>=4.22.0 in /opt/homebrew/lib/python3.10/site-packages (from matplotlib!=3.6.1,>=3.4->seaborn) (4.56.0)\n",
      "Requirement already satisfied: kiwisolver>=1.3.1 in /opt/homebrew/lib/python3.10/site-packages (from matplotlib!=3.6.1,>=3.4->seaborn) (1.4.8)\n",
      "Requirement already satisfied: packaging>=20.0 in /Users/imanhamdan/Library/Python/3.10/lib/python/site-packages (from matplotlib!=3.6.1,>=3.4->seaborn) (24.2)\n",
      "Requirement already satisfied: pillow>=8 in /opt/homebrew/lib/python3.10/site-packages (from matplotlib!=3.6.1,>=3.4->seaborn) (11.1.0)\n",
      "Requirement already satisfied: pyparsing>=2.3.1 in /opt/homebrew/lib/python3.10/site-packages (from matplotlib!=3.6.1,>=3.4->seaborn) (3.2.1)\n",
      "Requirement already satisfied: python-dateutil>=2.7 in /Users/imanhamdan/Library/Python/3.10/lib/python/site-packages (from matplotlib!=3.6.1,>=3.4->seaborn) (2.9.0.post0)\n",
      "Requirement already satisfied: pytz>=2020.1 in /opt/homebrew/lib/python3.10/site-packages (from pandas>=1.2->seaborn) (2025.1)\n",
      "Requirement already satisfied: tzdata>=2022.7 in /opt/homebrew/lib/python3.10/site-packages (from pandas>=1.2->seaborn) (2025.1)\n",
      "Requirement already satisfied: six>=1.5 in /Users/imanhamdan/Library/Python/3.10/lib/python/site-packages (from python-dateutil>=2.7->matplotlib!=3.6.1,>=3.4->seaborn) (1.17.0)\n",
      "\n",
      "\u001b[1m[\u001b[0m\u001b[34;49mnotice\u001b[0m\u001b[1;39;49m]\u001b[0m\u001b[39;49m A new release of pip is available: \u001b[0m\u001b[31;49m24.3.1\u001b[0m\u001b[39;49m -> \u001b[0m\u001b[32;49m25.0\u001b[0m\n",
      "\u001b[1m[\u001b[0m\u001b[34;49mnotice\u001b[0m\u001b[1;39;49m]\u001b[0m\u001b[39;49m To update, run: \u001b[0m\u001b[32;49mpython3.10 -m pip install --upgrade pip\u001b[0m\n",
      "Note: you may need to restart the kernel to use updated packages.\n",
      "Requirement already satisfied: scikit-learn in /opt/homebrew/lib/python3.10/site-packages (1.6.1)\n",
      "Requirement already satisfied: numpy>=1.19.5 in /opt/homebrew/lib/python3.10/site-packages (from scikit-learn) (2.0.2)\n",
      "Requirement already satisfied: scipy>=1.6.0 in /opt/homebrew/lib/python3.10/site-packages (from scikit-learn) (1.15.1)\n",
      "Requirement already satisfied: joblib>=1.2.0 in /opt/homebrew/lib/python3.10/site-packages (from scikit-learn) (1.4.2)\n",
      "Requirement already satisfied: threadpoolctl>=3.1.0 in /opt/homebrew/lib/python3.10/site-packages (from scikit-learn) (3.5.0)\n",
      "\n",
      "\u001b[1m[\u001b[0m\u001b[34;49mnotice\u001b[0m\u001b[1;39;49m]\u001b[0m\u001b[39;49m A new release of pip is available: \u001b[0m\u001b[31;49m24.3.1\u001b[0m\u001b[39;49m -> \u001b[0m\u001b[32;49m25.0\u001b[0m\n",
      "\u001b[1m[\u001b[0m\u001b[34;49mnotice\u001b[0m\u001b[1;39;49m]\u001b[0m\u001b[39;49m To update, run: \u001b[0m\u001b[32;49mpython3.10 -m pip install --upgrade pip\u001b[0m\n",
      "Note: you may need to restart the kernel to use updated packages.\n",
      "Requirement already satisfied: statsmodels in /opt/homebrew/lib/python3.10/site-packages (0.14.4)\n",
      "Requirement already satisfied: numpy<3,>=1.22.3 in /opt/homebrew/lib/python3.10/site-packages (from statsmodels) (2.0.2)\n",
      "Requirement already satisfied: scipy!=1.9.2,>=1.8 in /opt/homebrew/lib/python3.10/site-packages (from statsmodels) (1.15.1)\n",
      "Requirement already satisfied: pandas!=2.1.0,>=1.4 in /opt/homebrew/lib/python3.10/site-packages (from statsmodels) (2.2.3)\n",
      "Requirement already satisfied: patsy>=0.5.6 in /opt/homebrew/lib/python3.10/site-packages (from statsmodels) (1.0.1)\n",
      "Requirement already satisfied: packaging>=21.3 in /Users/imanhamdan/Library/Python/3.10/lib/python/site-packages (from statsmodels) (24.2)\n",
      "Requirement already satisfied: python-dateutil>=2.8.2 in /Users/imanhamdan/Library/Python/3.10/lib/python/site-packages (from pandas!=2.1.0,>=1.4->statsmodels) (2.9.0.post0)\n",
      "Requirement already satisfied: pytz>=2020.1 in /opt/homebrew/lib/python3.10/site-packages (from pandas!=2.1.0,>=1.4->statsmodels) (2025.1)\n",
      "Requirement already satisfied: tzdata>=2022.7 in /opt/homebrew/lib/python3.10/site-packages (from pandas!=2.1.0,>=1.4->statsmodels) (2025.1)\n",
      "Requirement already satisfied: six>=1.5 in /Users/imanhamdan/Library/Python/3.10/lib/python/site-packages (from python-dateutil>=2.8.2->pandas!=2.1.0,>=1.4->statsmodels) (1.17.0)\n",
      "\n",
      "\u001b[1m[\u001b[0m\u001b[34;49mnotice\u001b[0m\u001b[1;39;49m]\u001b[0m\u001b[39;49m A new release of pip is available: \u001b[0m\u001b[31;49m24.3.1\u001b[0m\u001b[39;49m -> \u001b[0m\u001b[32;49m25.0\u001b[0m\n",
      "\u001b[1m[\u001b[0m\u001b[34;49mnotice\u001b[0m\u001b[1;39;49m]\u001b[0m\u001b[39;49m To update, run: \u001b[0m\u001b[32;49mpython3.10 -m pip install --upgrade pip\u001b[0m\n",
      "Note: you may need to restart the kernel to use updated packages.\n",
      "Requirement already satisfied: tensorflow in /opt/homebrew/lib/python3.10/site-packages (2.18.0)\n",
      "Requirement already satisfied: absl-py>=1.0.0 in /opt/homebrew/lib/python3.10/site-packages (from tensorflow) (2.1.0)\n",
      "Requirement already satisfied: astunparse>=1.6.0 in /opt/homebrew/lib/python3.10/site-packages (from tensorflow) (1.6.3)\n",
      "Requirement already satisfied: flatbuffers>=24.3.25 in /opt/homebrew/lib/python3.10/site-packages (from tensorflow) (25.1.24)\n",
      "Requirement already satisfied: gast!=0.5.0,!=0.5.1,!=0.5.2,>=0.2.1 in /opt/homebrew/lib/python3.10/site-packages (from tensorflow) (0.6.0)\n",
      "Requirement already satisfied: google-pasta>=0.1.1 in /opt/homebrew/lib/python3.10/site-packages (from tensorflow) (0.2.0)\n",
      "Requirement already satisfied: libclang>=13.0.0 in /opt/homebrew/lib/python3.10/site-packages (from tensorflow) (18.1.1)\n",
      "Requirement already satisfied: opt-einsum>=2.3.2 in /opt/homebrew/lib/python3.10/site-packages (from tensorflow) (3.4.0)\n",
      "Requirement already satisfied: packaging in /Users/imanhamdan/Library/Python/3.10/lib/python/site-packages (from tensorflow) (24.2)\n",
      "Requirement already satisfied: protobuf!=4.21.0,!=4.21.1,!=4.21.2,!=4.21.3,!=4.21.4,!=4.21.5,<6.0.0dev,>=3.20.3 in /opt/homebrew/lib/python3.10/site-packages (from tensorflow) (5.29.3)\n",
      "Requirement already satisfied: requests<3,>=2.21.0 in /opt/homebrew/lib/python3.10/site-packages (from tensorflow) (2.32.3)\n",
      "Requirement already satisfied: setuptools in /opt/homebrew/lib/python3.10/site-packages (from tensorflow) (75.6.0)\n",
      "Requirement already satisfied: six>=1.12.0 in /Users/imanhamdan/Library/Python/3.10/lib/python/site-packages (from tensorflow) (1.17.0)\n",
      "Requirement already satisfied: termcolor>=1.1.0 in /opt/homebrew/lib/python3.10/site-packages (from tensorflow) (2.5.0)\n",
      "Requirement already satisfied: typing-extensions>=3.6.6 in /Users/imanhamdan/Library/Python/3.10/lib/python/site-packages (from tensorflow) (4.12.2)\n",
      "Requirement already satisfied: wrapt>=1.11.0 in /opt/homebrew/lib/python3.10/site-packages (from tensorflow) (1.17.2)\n",
      "Requirement already satisfied: grpcio<2.0,>=1.24.3 in /opt/homebrew/lib/python3.10/site-packages (from tensorflow) (1.70.0)\n",
      "Requirement already satisfied: tensorboard<2.19,>=2.18 in /opt/homebrew/lib/python3.10/site-packages (from tensorflow) (2.18.0)\n",
      "Requirement already satisfied: keras>=3.5.0 in /opt/homebrew/lib/python3.10/site-packages (from tensorflow) (3.8.0)\n",
      "Requirement already satisfied: numpy<2.1.0,>=1.26.0 in /opt/homebrew/lib/python3.10/site-packages (from tensorflow) (2.0.2)\n",
      "Requirement already satisfied: h5py>=3.11.0 in /opt/homebrew/lib/python3.10/site-packages (from tensorflow) (3.12.1)\n",
      "Requirement already satisfied: ml-dtypes<0.5.0,>=0.4.0 in /opt/homebrew/lib/python3.10/site-packages (from tensorflow) (0.4.1)\n",
      "Requirement already satisfied: tensorflow-io-gcs-filesystem>=0.23.1 in /opt/homebrew/lib/python3.10/site-packages (from tensorflow) (0.37.1)\n",
      "Requirement already satisfied: wheel<1.0,>=0.23.0 in /opt/homebrew/lib/python3.10/site-packages (from astunparse>=1.6.0->tensorflow) (0.45.1)\n",
      "Requirement already satisfied: rich in /opt/homebrew/lib/python3.10/site-packages (from keras>=3.5.0->tensorflow) (13.9.4)\n",
      "Requirement already satisfied: namex in /opt/homebrew/lib/python3.10/site-packages (from keras>=3.5.0->tensorflow) (0.0.8)\n",
      "Requirement already satisfied: optree in /opt/homebrew/lib/python3.10/site-packages (from keras>=3.5.0->tensorflow) (0.14.0)\n",
      "Requirement already satisfied: charset-normalizer<4,>=2 in /opt/homebrew/lib/python3.10/site-packages (from requests<3,>=2.21.0->tensorflow) (3.4.1)\n",
      "Requirement already satisfied: idna<4,>=2.5 in /opt/homebrew/lib/python3.10/site-packages (from requests<3,>=2.21.0->tensorflow) (3.10)\n",
      "Requirement already satisfied: urllib3<3,>=1.21.1 in /opt/homebrew/lib/python3.10/site-packages (from requests<3,>=2.21.0->tensorflow) (2.3.0)\n",
      "Requirement already satisfied: certifi>=2017.4.17 in /opt/homebrew/lib/python3.10/site-packages (from requests<3,>=2.21.0->tensorflow) (2025.1.31)\n",
      "Requirement already satisfied: markdown>=2.6.8 in /opt/homebrew/lib/python3.10/site-packages (from tensorboard<2.19,>=2.18->tensorflow) (3.7)\n",
      "Requirement already satisfied: tensorboard-data-server<0.8.0,>=0.7.0 in /opt/homebrew/lib/python3.10/site-packages (from tensorboard<2.19,>=2.18->tensorflow) (0.7.2)\n",
      "Requirement already satisfied: werkzeug>=1.0.1 in /opt/homebrew/lib/python3.10/site-packages (from tensorboard<2.19,>=2.18->tensorflow) (3.1.3)\n",
      "Requirement already satisfied: MarkupSafe>=2.1.1 in /opt/homebrew/lib/python3.10/site-packages (from werkzeug>=1.0.1->tensorboard<2.19,>=2.18->tensorflow) (3.0.2)\n",
      "Requirement already satisfied: markdown-it-py>=2.2.0 in /opt/homebrew/lib/python3.10/site-packages (from rich->keras>=3.5.0->tensorflow) (3.0.0)\n",
      "Requirement already satisfied: pygments<3.0.0,>=2.13.0 in /Users/imanhamdan/Library/Python/3.10/lib/python/site-packages (from rich->keras>=3.5.0->tensorflow) (2.19.1)\n",
      "Requirement already satisfied: mdurl~=0.1 in /opt/homebrew/lib/python3.10/site-packages (from markdown-it-py>=2.2.0->rich->keras>=3.5.0->tensorflow) (0.1.2)\n",
      "\n",
      "\u001b[1m[\u001b[0m\u001b[34;49mnotice\u001b[0m\u001b[1;39;49m]\u001b[0m\u001b[39;49m A new release of pip is available: \u001b[0m\u001b[31;49m24.3.1\u001b[0m\u001b[39;49m -> \u001b[0m\u001b[32;49m25.0\u001b[0m\n",
      "\u001b[1m[\u001b[0m\u001b[34;49mnotice\u001b[0m\u001b[1;39;49m]\u001b[0m\u001b[39;49m To update, run: \u001b[0m\u001b[32;49mpython3.10 -m pip install --upgrade pip\u001b[0m\n",
      "Note: you may need to restart the kernel to use updated packages.\n",
      "Collecting tensorflow-gpu\n",
      "  Using cached tensorflow-gpu-2.12.0.tar.gz (2.6 kB)\n",
      "  Preparing metadata (setup.py) ... \u001b[?25lerror\n",
      "  \u001b[1;31merror\u001b[0m: \u001b[1msubprocess-exited-with-error\u001b[0m\n",
      "  \n",
      "  \u001b[31m×\u001b[0m \u001b[32mpython setup.py egg_info\u001b[0m did not run successfully.\n",
      "  \u001b[31m│\u001b[0m exit code: \u001b[1;36m1\u001b[0m\n",
      "  \u001b[31m╰─>\u001b[0m \u001b[31m[39 lines of output]\u001b[0m\n",
      "  \u001b[31m   \u001b[0m Traceback (most recent call last):\n",
      "  \u001b[31m   \u001b[0m   File \"/Users/imanhamdan/Library/Python/3.10/lib/python/site-packages/packaging/requirements.py\", line 36, in __init__\n",
      "  \u001b[31m   \u001b[0m     parsed = _parse_requirement(requirement_string)\n",
      "  \u001b[31m   \u001b[0m   File \"/Users/imanhamdan/Library/Python/3.10/lib/python/site-packages/packaging/_parser.py\", line 62, in parse_requirement\n",
      "  \u001b[31m   \u001b[0m     return _parse_requirement(Tokenizer(source, rules=DEFAULT_RULES))\n",
      "  \u001b[31m   \u001b[0m   File \"/Users/imanhamdan/Library/Python/3.10/lib/python/site-packages/packaging/_parser.py\", line 80, in _parse_requirement\n",
      "  \u001b[31m   \u001b[0m     url, specifier, marker = _parse_requirement_details(tokenizer)\n",
      "  \u001b[31m   \u001b[0m   File \"/Users/imanhamdan/Library/Python/3.10/lib/python/site-packages/packaging/_parser.py\", line 124, in _parse_requirement_details\n",
      "  \u001b[31m   \u001b[0m     marker = _parse_requirement_marker(\n",
      "  \u001b[31m   \u001b[0m   File \"/Users/imanhamdan/Library/Python/3.10/lib/python/site-packages/packaging/_parser.py\", line 145, in _parse_requirement_marker\n",
      "  \u001b[31m   \u001b[0m     tokenizer.raise_syntax_error(\n",
      "  \u001b[31m   \u001b[0m   File \"/Users/imanhamdan/Library/Python/3.10/lib/python/site-packages/packaging/_tokenizer.py\", line 167, in raise_syntax_error\n",
      "  \u001b[31m   \u001b[0m     raise ParserSyntaxError(\n",
      "  \u001b[31m   \u001b[0m packaging._tokenizer.ParserSyntaxError: Expected end or semicolon (after name and no valid version specifier)\n",
      "  \u001b[31m   \u001b[0m     python_version>\"3.7\"\n",
      "  \u001b[31m   \u001b[0m                   ^\n",
      "  \u001b[31m   \u001b[0m \n",
      "  \u001b[31m   \u001b[0m The above exception was the direct cause of the following exception:\n",
      "  \u001b[31m   \u001b[0m \n",
      "  \u001b[31m   \u001b[0m Traceback (most recent call last):\n",
      "  \u001b[31m   \u001b[0m   File \"<string>\", line 2, in <module>\n",
      "  \u001b[31m   \u001b[0m   File \"<pip-setuptools-caller>\", line 34, in <module>\n",
      "  \u001b[31m   \u001b[0m   File \"/private/var/folders/9d/8ldx6syj5ms3xms5s9mybtkc0000gn/T/pip-install-y4m5o0dd/tensorflow-gpu_1fcf2e7054cb425f8fa262a6b2bdcf35/setup.py\", line 40, in <module>\n",
      "  \u001b[31m   \u001b[0m     setuptools.setup()\n",
      "  \u001b[31m   \u001b[0m   File \"/opt/homebrew/lib/python3.10/site-packages/setuptools/__init__.py\", line 116, in setup\n",
      "  \u001b[31m   \u001b[0m     _install_setup_requires(attrs)\n",
      "  \u001b[31m   \u001b[0m   File \"/opt/homebrew/lib/python3.10/site-packages/setuptools/__init__.py\", line 87, in _install_setup_requires\n",
      "  \u001b[31m   \u001b[0m     dist.parse_config_files(ignore_option_errors=True)\n",
      "  \u001b[31m   \u001b[0m   File \"/opt/homebrew/lib/python3.10/site-packages/setuptools/dist.py\", line 650, in parse_config_files\n",
      "  \u001b[31m   \u001b[0m     self._finalize_requires()\n",
      "  \u001b[31m   \u001b[0m   File \"/opt/homebrew/lib/python3.10/site-packages/setuptools/dist.py\", line 380, in _finalize_requires\n",
      "  \u001b[31m   \u001b[0m     self._normalize_requires()\n",
      "  \u001b[31m   \u001b[0m   File \"/opt/homebrew/lib/python3.10/site-packages/setuptools/dist.py\", line 395, in _normalize_requires\n",
      "  \u001b[31m   \u001b[0m     self.install_requires = list(map(str, _reqs.parse(install_requires)))\n",
      "  \u001b[31m   \u001b[0m   File \"/Users/imanhamdan/Library/Python/3.10/lib/python/site-packages/packaging/requirements.py\", line 38, in __init__\n",
      "  \u001b[31m   \u001b[0m     raise InvalidRequirement(str(e)) from e\n",
      "  \u001b[31m   \u001b[0m packaging.requirements.InvalidRequirement: Expected end or semicolon (after name and no valid version specifier)\n",
      "  \u001b[31m   \u001b[0m     python_version>\"3.7\"\n",
      "  \u001b[31m   \u001b[0m                   ^\n",
      "  \u001b[31m   \u001b[0m \u001b[31m[end of output]\u001b[0m\n",
      "  \n",
      "  \u001b[1;35mnote\u001b[0m: This error originates from a subprocess, and is likely not a problem with pip.\n",
      "\u001b[?25h\n",
      "\u001b[1m[\u001b[0m\u001b[34;49mnotice\u001b[0m\u001b[1;39;49m]\u001b[0m\u001b[39;49m A new release of pip is available: \u001b[0m\u001b[31;49m24.3.1\u001b[0m\u001b[39;49m -> \u001b[0m\u001b[32;49m25.0\u001b[0m\n",
      "\u001b[1m[\u001b[0m\u001b[34;49mnotice\u001b[0m\u001b[1;39;49m]\u001b[0m\u001b[39;49m To update, run: \u001b[0m\u001b[32;49mpython3.10 -m pip install --upgrade pip\u001b[0m\n",
      "\u001b[1;31merror\u001b[0m: \u001b[1mmetadata-generation-failed\u001b[0m\n",
      "\n",
      "\u001b[31m×\u001b[0m Encountered error while generating package metadata.\n",
      "\u001b[31m╰─>\u001b[0m See above for output.\n",
      "\n",
      "\u001b[1;35mnote\u001b[0m: This is an issue with the package mentioned above, not pip.\n",
      "\u001b[1;36mhint\u001b[0m: See above for details.\n",
      "Note: you may need to restart the kernel to use updated packages.\n",
      "2.18.0\n",
      "Kernel is running correctly.\n"
     ]
    }
   ],
   "source": [
    "%pip install pandas\n",
    "import pandas as pd\n",
    "import numpy as np\n",
    "%pip install matplotlib\n",
    "import matplotlib.pyplot as plt\n",
    "%pip install seaborn\n",
    "import seaborn as sns\n",
    "%pip install scikit-learn\n",
    "from sklearn.model_selection import train_test_split\n",
    "from sklearn.linear_model import LinearRegression\n",
    "from sklearn.ensemble import RandomForestRegressor, GradientBoostingRegressor\n",
    "from sklearn.metrics import mean_squared_error, r2_score\n",
    "%pip install statsmodels\n",
    "from statsmodels.tsa.arima.model import ARIMA\n",
    "%pip install tensorflow\n",
    "%pip install tensorflow-gpu\n",
    "import tensorflow as tf\n",
    "print(tf.__version__)\n",
    "print(\"Kernel is running correctly.\")\n"
   ]
  },
  {
   "cell_type": "code",
   "execution_count": 11,
   "metadata": {},
   "outputs": [
    {
     "name": "stdout",
     "output_type": "stream",
     "text": [
      "Kaggle library installed successfully\n"
     ]
    }
   ],
   "source": [
    "import os\n",
    "\n",
    "# Set Kaggle API credentials\n",
    "os.environ['KAGGLE_USERNAME'] = 'your_kaggle_username'\n",
    "os.environ['KAGGLE_KEY'] = 'your_kaggle_key'\n",
    "\n",
    "import kaggle\n",
    "print(\"Kaggle library installed successfully\")"
   ]
  },
  {
   "cell_type": "code",
   "execution_count": 12,
   "metadata": {},
   "outputs": [
    {
     "name": "stdout",
     "output_type": "stream",
     "text": [
      "Requirement already satisfied: kaggle in /opt/homebrew/lib/python3.10/site-packages (1.6.17)\n",
      "Requirement already satisfied: six>=1.10 in /Users/imanhamdan/Library/Python/3.10/lib/python/site-packages (from kaggle) (1.17.0)\n",
      "Requirement already satisfied: certifi>=2023.7.22 in /opt/homebrew/lib/python3.10/site-packages (from kaggle) (2025.1.31)\n",
      "Requirement already satisfied: python-dateutil in /Users/imanhamdan/Library/Python/3.10/lib/python/site-packages (from kaggle) (2.9.0.post0)\n",
      "Requirement already satisfied: requests in /opt/homebrew/lib/python3.10/site-packages (from kaggle) (2.32.3)\n",
      "Requirement already satisfied: tqdm in /opt/homebrew/lib/python3.10/site-packages (from kaggle) (4.67.1)\n",
      "Requirement already satisfied: python-slugify in /opt/homebrew/lib/python3.10/site-packages (from kaggle) (8.0.4)\n",
      "Requirement already satisfied: urllib3 in /opt/homebrew/lib/python3.10/site-packages (from kaggle) (2.3.0)\n",
      "Requirement already satisfied: bleach in /opt/homebrew/lib/python3.10/site-packages (from kaggle) (6.2.0)\n",
      "Requirement already satisfied: webencodings in /opt/homebrew/lib/python3.10/site-packages (from bleach->kaggle) (0.5.1)\n",
      "Requirement already satisfied: text-unidecode>=1.3 in /opt/homebrew/lib/python3.10/site-packages (from python-slugify->kaggle) (1.3)\n",
      "Requirement already satisfied: charset-normalizer<4,>=2 in /opt/homebrew/lib/python3.10/site-packages (from requests->kaggle) (3.4.1)\n",
      "Requirement already satisfied: idna<4,>=2.5 in /opt/homebrew/lib/python3.10/site-packages (from requests->kaggle) (3.10)\n",
      "\n",
      "\u001b[1m[\u001b[0m\u001b[34;49mnotice\u001b[0m\u001b[1;39;49m]\u001b[0m\u001b[39;49m A new release of pip is available: \u001b[0m\u001b[31;49m24.3.1\u001b[0m\u001b[39;49m -> \u001b[0m\u001b[32;49m25.0\u001b[0m\n",
      "\u001b[1m[\u001b[0m\u001b[34;49mnotice\u001b[0m\u001b[1;39;49m]\u001b[0m\u001b[39;49m To update, run: \u001b[0m\u001b[32;49mpython3.10 -m pip install --upgrade pip\u001b[0m\n",
      "Note: you may need to restart the kernel to use updated packages.\n",
      "Kaggle library installed successfully\n"
     ]
    }
   ],
   "source": [
    "%pip install kaggle\n",
    "import kaggle\n",
    "print(\"Kaggle library installed successfully\")"
   ]
  },
  {
   "cell_type": "markdown",
   "metadata": {},
   "source": [
    "## Data Loading and Preview\n",
    "Load the air quality dataset and preview the initial rows.\n"
   ]
  },
  {
   "cell_type": "code",
   "execution_count": 13,
   "metadata": {},
   "outputs": [
    {
     "name": "stdout",
     "output_type": "stream",
     "text": [
      "Dataset URL: https://www.kaggle.com/datasets/hemanthkarnati/indoor-air-quality-dataset\n",
      "                  created_at  entry_id  field1  field2  field3  field4  \\\n",
      "0  2024-04-06 12:00:27+05:30      1256     163    42.0    33.8    49.0   \n",
      "1  2024-04-06 12:01:30+05:30      1257     162    37.0    33.8    49.0   \n",
      "2  2024-04-06 12:02:32+05:30      1258     173    47.0    33.7    50.0   \n",
      "3  2024-04-06 12:03:34+05:30      1259     168    37.0    33.3    51.0   \n",
      "4  2024-04-06 12:04:36+05:30      1260     168    37.0    33.3    52.0   \n",
      "\n",
      "   field5  field6  field7  latitude  longitude  elevation  status  \n",
      "0   520.0    18.0    21.0       NaN        NaN        NaN     NaN  \n",
      "1   637.0    36.0     9.0       NaN        NaN        NaN     NaN  \n",
      "2   679.0    42.0     3.0       NaN        NaN        NaN     NaN  \n",
      "3   539.0    21.0     0.0       NaN        NaN        NaN     NaN  \n",
      "4   697.0    45.0     0.0       NaN        NaN        NaN     NaN  \n"
     ]
    }
   ],
   "source": [
    "import pandas as pd\n",
    "\n",
    "# Download the dataset\n",
    "import kaggle\n",
    "\n",
    "from kaggle.api.kaggle_api_extended import KaggleApi\n",
    "\n",
    "api = KaggleApi()\n",
    "api.authenticate()\n",
    "\n",
    "path = api.dataset_download_files(\"hemanthkarnati/indoor-air-quality-dataset\", path=\".\", unzip=True)\n",
    "\n",
    "# Define the dataset path\n",
    "dataset_path = f\"{path}/indoor_data.csv\"\n",
    "\n",
    "# Read the dataset into a DataFrame\n",
    "df = pd.read_csv(\"indoor_data.csv\")\n",
    "\n",
    "# Preview the dataset\n",
    "print(df.head())\n"
   ]
  },
  {
   "cell_type": "markdown",
   "metadata": {},
   "source": [
    "## Data Preparation: Cleaning, Renaming, and Normalization\n",
    "\n",
    "Clean and transform the data by renaming columns, handling missing values, and filtering rows.\n"
   ]
  },
  {
   "cell_type": "code",
   "execution_count": 14,
   "metadata": {},
   "outputs": [
    {
     "name": "stdout",
     "output_type": "stream",
     "text": [
      "Columns after cleaning and renaming: Index(['created_at', 'entry_id', 'field1', 'field2', 'field3', 'field4',\n",
      "       'field5', 'field6', 'field7', 'latitude', 'longitude', 'elevation',\n",
      "       'status'],\n",
      "      dtype='object')\n"
     ]
    }
   ],
   "source": [
    "# Clean and rename columns\n",
    "df.columns = df.columns.str.strip()\n",
    "df.rename(columns={'PM2.5 (�g/m3)': 'PM2.5'}, inplace=True)\n",
    "\n",
    "# Print updated columns to verify\n",
    "print(\"Columns after cleaning and renaming:\", df.columns)\n"
   ]
  },
  {
   "cell_type": "code",
   "execution_count": 15,
   "metadata": {},
   "outputs": [
    {
     "name": "stdout",
     "output_type": "stream",
     "text": [
      "Columns in DataFrame: Index(['created_at', 'entry_id', 'field1', 'field2', 'field3', 'field4',\n",
      "       'field5', 'field6', 'field7', 'latitude', 'longitude', 'elevation',\n",
      "       'status'],\n",
      "      dtype='object')\n",
      "Error: 'PM2.5' column is missing from the DataFrame.\n"
     ]
    }
   ],
   "source": [
    "# Verify and clean column names\n",
    "df.columns = df.columns.str.strip()\n",
    "\n",
    "# Print the column names to verify\n",
    "print(\"Columns in DataFrame:\", df.columns)\n",
    "\n",
    "# Check if the required column exists in the DataFrame\n",
    "if 'PM2.5' not in df.columns:\n",
    "    print(\"Error: 'PM2.5' column is missing from the DataFrame.\")\n",
    "else:\n",
    "    # Filter out rows with zero PM2.5 values\n",
    "    df_filtered = df[df['PM2.5'] > 0]\n",
    "    print(\"Data after filtering non-zero PM2.5 values:\", df_filtered.head())"
   ]
  },
  {
   "cell_type": "code",
   "execution_count": 16,
   "metadata": {},
   "outputs": [],
   "source": [
    "df.columns = df.columns.str.strip()  # Clean columns first\n",
    "for col in df.columns:\n",
    "    if 'PM2.5' in col:\n",
    "        print(f\"PM2.5 column found: {col}\")\n",
    "        \n",
    "# Use the exact name you find from the print output\n",
    "df.rename(columns={'field6': 'PM2.5'}, inplace=True)  # Adjust 'field6' if needed\n"
   ]
  },
  {
   "cell_type": "markdown",
   "metadata": {},
   "source": [
    "## Exploratory Data Analysis (EDA)\n",
    "Conduct an analysis to understand the dataset, identify missing values, and observe trends.\n"
   ]
  },
  {
   "cell_type": "code",
   "execution_count": 17,
   "metadata": {},
   "outputs": [
    {
     "name": "stdout",
     "output_type": "stream",
     "text": [
      "Available columns: Index(['created_at', 'entry_id', 'field1', 'field2', 'field3', 'field4',\n",
      "       'field5', 'field6', 'field7', 'latitude', 'longitude', 'elevation',\n",
      "       'status'],\n",
      "      dtype='object')\n",
      "Index(['created_at', 'entry_id', 'PM2.5', 'CO2', 'Temperature', 'Humidity',\n",
      "       'VOC', 'DustDensity', 'AirQualityIndex', 'latitude', 'longitude',\n",
      "       'elevation', 'status'],\n",
      "      dtype='object')\n",
      "All required columns are present.\n",
      "Renamed columns: Index(['created_at', 'entry_id', 'PM2.5', 'CO2', 'Temperature', 'Humidity',\n",
      "       'VOC', 'DustDensity', 'AirQualityIndex', 'latitude', 'longitude',\n",
      "       'elevation', 'status'],\n",
      "      dtype='object')\n"
     ]
    },
    {
     "name": "stderr",
     "output_type": "stream",
     "text": [
      "/var/folders/9d/8ldx6syj5ms3xms5s9mybtkc0000gn/T/ipykernel_85037/3036796716.py:40: FutureWarning: DataFrame.fillna with 'method' is deprecated and will raise in a future version. Use obj.ffill() or obj.bfill() instead.\n",
      "  df.fillna(method='ffill', inplace=True)\n"
     ]
    }
   ],
   "source": [
    "\n",
    "import matplotlib.pyplot as plt\n",
    "import seaborn as sns\n",
    "\n",
    "# Load the dataset\n",
    "df = pd.read_csv(\"indoor_data.csv\")\n",
    "\n",
    "# Check for missing columns\n",
    "required_columns = ['Timestamp', 'PM2.5', 'CO2', 'VOC', 'Temperature', 'Humidity']\n",
    "# Verify and clean column names\n",
    "df.columns = df.columns.str.strip()  # Strip whitespace from column names\n",
    "\n",
    "# Verify and clean column names\n",
    "print(\"Available columns:\", df.columns)\n",
    "df.columns = df.columns.str.strip()  # Strip whitespace from column names\n",
    "\n",
    "# Rename columns if needed\n",
    "# Rename columns with appropriate names\n",
    "df.rename(columns={\n",
    "    'field1': 'PM2.5',\n",
    "    'field2': 'CO2',\n",
    "    'field3': 'Temperature',\n",
    "    'field4': 'Humidity',\n",
    "    'field5': 'VOC',\n",
    "    'field6': 'DustDensity',\n",
    "    'field7': 'AirQualityIndex'\n",
    "}, inplace=True)\n",
    "\n",
    "# Verify column names after renaming\n",
    "print(df.columns)\n",
    "\n",
    "required_columns = ['PM2.5', 'CO2', 'Temperature', 'Humidity', 'VOC']\n",
    "missing_columns = [col for col in required_columns if col not in df.columns]\n",
    "\n",
    "if missing_columns:\n",
    "    print(f\"Missing columns: {missing_columns}\")\n",
    "else:\n",
    "    print(\"All required columns are present.\")\n",
    "\n",
    "# Use forward fill instead of deprecated 'fill'\n",
    "df.fillna(method='ffill', inplace=True)\n",
    "\n",
    "# Alternatively, drop rows with too many missing values\n",
    "df.dropna(thresh=4, inplace=True)  # Keeps rows with at least 4 non-NaN values\n",
    "\n",
    "# Filter out outliers in the PM2.5 column\n",
    "df = df[df['PM2.5'].between(df['PM2.5'].quantile(0.01), df['PM2.5'].quantile(0.99))]\n",
    "\n",
    "# Verify renamed columns\n",
    "print(\"Renamed columns:\", df.columns)\n"
   ]
  },
  {
   "cell_type": "code",
   "execution_count": 18,
   "metadata": {},
   "outputs": [
    {
     "name": "stdout",
     "output_type": "stream",
     "text": [
      "Available columns: Index(['created_at', 'entry_id', 'PM2.5', 'CO2', 'Temperature', 'Humidity',\n",
      "       'VOC', 'DustDensity', 'AirQualityIndex', 'latitude', 'longitude',\n",
      "       'elevation', 'status'],\n",
      "      dtype='object')\n"
     ]
    }
   ],
   "source": [
    "# Verify and clean column names\n",
    "print(\"Available columns:\", df.columns)\n",
    "df.columns = df.columns.str.strip()  # Strip whitespace from column names\n",
    "\n",
    "# Rename columns if needed\n",
    "df.rename(columns={\n",
    "    'CO (GT)': 'CO',\n",
    "    'PT08 S1 (CO)': 'PT08.S1',\n",
    "    'NMHC (GT)': 'NMHC',\n",
    "    'Air Quality': 'AirQuality'\n",
    "}, inplace=True)\n"
   ]
  },
  {
   "cell_type": "code",
   "execution_count": 19,
   "metadata": {},
   "outputs": [
    {
     "name": "stdout",
     "output_type": "stream",
     "text": [
      "                  created_at  entry_id  PM2.5   CO2  Temperature  Humidity  \\\n",
      "0  2024-04-06 12:00:27+05:30      1256    163  42.0         33.8      49.0   \n",
      "1  2024-04-06 12:01:30+05:30      1257    162  37.0         33.8      49.0   \n",
      "2  2024-04-06 12:02:32+05:30      1258    173  47.0         33.7      50.0   \n",
      "3  2024-04-06 12:03:34+05:30      1259    168  37.0         33.3      51.0   \n",
      "4  2024-04-06 12:04:36+05:30      1260    168  37.0         33.3      52.0   \n",
      "\n",
      "     VOC  DustDensity  AirQualityIndex  latitude  longitude  elevation  status  \n",
      "0  520.0         18.0             21.0       NaN        NaN        NaN     NaN  \n",
      "1  637.0         36.0              9.0       NaN        NaN        NaN     NaN  \n",
      "2  679.0         42.0              3.0       NaN        NaN        NaN     NaN  \n",
      "3  539.0         21.0              0.0       NaN        NaN        NaN     NaN  \n",
      "4  697.0         45.0              0.0       NaN        NaN        NaN     NaN  \n"
     ]
    }
   ],
   "source": [
    " df.columns = df.columns.str.strip()\n",
    "df.rename(columns={'CO(GT)': 'CO_ppm', 'T': 'Temperature', 'RH': 'Humidity'}, inplace=True)\n",
    "print(df.head())\n"
   ]
  },
  {
   "cell_type": "code",
   "execution_count": 20,
   "metadata": {
    "vscode": {
     "languageId": "javascript"
    }
   },
   "outputs": [],
   "source": [
    "df.rename(columns={\n",
    "    'field1': 'PM2.5',\n",
    "    'field2': 'CO2',\n",
    "    'field3': 'Temperature',\n",
    "    'field4': 'Humidity',\n",
    "    'field5': 'VOC',\n",
    "    'field6': 'DustDensity',\n",
    "    'field7': 'AirQualityIndex'\n",
    "}, inplace=True)\n"
   ]
  },
  {
   "cell_type": "code",
   "execution_count": 21,
   "metadata": {},
   "outputs": [],
   "source": [
    "# Use actual column names from your DataFrame\n",
    "X = df[['PM2.5', 'CO2', 'Temperature', 'Humidity']]\n"
   ]
  },
  {
   "cell_type": "code",
   "execution_count": 22,
   "metadata": {},
   "outputs": [
    {
     "name": "stdout",
     "output_type": "stream",
     "text": [
      "Available columns: Index(['created_at', 'entry_id', 'PM2.5', 'CO2', 'Temperature', 'Humidity',\n",
      "       'VOC', 'DustDensity', 'AirQualityIndex', 'latitude', 'longitude',\n",
      "       'elevation', 'status'],\n",
      "      dtype='object')\n"
     ]
    }
   ],
   "source": [
    "print(\"Available columns:\", df.columns)\n"
   ]
  },
  {
   "cell_type": "code",
   "execution_count": 23,
   "metadata": {},
   "outputs": [
    {
     "name": "stdout",
     "output_type": "stream",
     "text": [
      "          entry_id        PM2.5          CO2  Temperature     Humidity  \\\n",
      "count  1306.000000  1306.000000  1306.000000  1306.000000  1306.000000   \n",
      "mean   1924.422665   185.709035    40.109495    32.797167    55.515314   \n",
      "std     379.984923    14.325537     2.745298     0.984477     9.516599   \n",
      "min    1256.000000   158.000000    35.000000    30.700000    41.000000   \n",
      "25%    1596.250000   173.000000    38.000000    31.800000    45.000000   \n",
      "50%    1922.500000   188.000000    40.000000    33.300000    57.000000   \n",
      "75%    2251.750000   196.000000    42.000000    33.700000    66.000000   \n",
      "max    2588.000000   218.000000    50.000000    33.800000    69.000000   \n",
      "\n",
      "               VOC  DustDensity  AirQualityIndex  latitude  longitude  \\\n",
      "count  1306.000000  1306.000000      1306.000000       0.0        0.0   \n",
      "mean    649.271822    37.503828        14.933384       NaN        NaN   \n",
      "std     147.536679    22.617094        72.819439       NaN        NaN   \n",
      "min     400.000000     0.000000         0.000000       NaN        NaN   \n",
      "25%     546.500000    22.000000         0.000000       NaN        NaN   \n",
      "50%     614.000000    32.000000         0.000000       NaN        NaN   \n",
      "75%     715.000000    47.000000         4.000000       NaN        NaN   \n",
      "max    1518.000000   184.000000       625.000000       NaN        NaN   \n",
      "\n",
      "       elevation  status  \n",
      "count        0.0     0.0  \n",
      "mean         NaN     NaN  \n",
      "std          NaN     NaN  \n",
      "min          NaN     NaN  \n",
      "25%          NaN     NaN  \n",
      "50%          NaN     NaN  \n",
      "75%          NaN     NaN  \n",
      "max          NaN     NaN  \n"
     ]
    }
   ],
   "source": [
    "# Use the actual column names from the DataFrame\n",
    "X = df[['PM2.5', 'CO2', 'Temperature', 'Humidity', 'VOC']]\n",
    "y = df['AirQualityIndex']\n",
    "\n",
    "# Display a summary of the DataFrame to verify the selection\n",
    "print(df.describe())\n"
   ]
  },
  {
   "cell_type": "code",
   "execution_count": 24,
   "metadata": {},
   "outputs": [],
   "source": [
    "# Rename columns if necessary\n",
    "df.rename(columns={\n",
    "    'field1': 'CO',\n",
    "    'field2': 'PT08.S1',\n",
    "    'field3': 'NMHC'\n",
    "}, inplace=True)\n"
   ]
  },
  {
   "cell_type": "code",
   "execution_count": 25,
   "metadata": {},
   "outputs": [
    {
     "name": "stdout",
     "output_type": "stream",
     "text": [
      "Renamed columns: Index(['created_at', 'entry_id', 'PM2.5', 'CO2', 'Temperature', 'Humidity',\n",
      "       'VOC', 'DustDensity', 'AirQualityIndex', 'latitude', 'longitude',\n",
      "       'elevation', 'status'],\n",
      "      dtype='object')\n"
     ]
    }
   ],
   "source": [
    "print(\"Renamed columns:\", df.columns)\n"
   ]
  },
  {
   "cell_type": "code",
   "execution_count": 26,
   "metadata": {},
   "outputs": [
    {
     "name": "stdout",
     "output_type": "stream",
     "text": [
      "Index(['created_at', 'entry_id', 'PM2.5', 'CO2', 'Temperature', 'Humidity',\n",
      "       'VOC', 'DustDensity', 'AirQualityIndex', 'latitude', 'longitude',\n",
      "       'elevation', 'status'],\n",
      "      dtype='object')\n",
      "                  created_at  entry_id  PM2.5   CO2  Temperature  Humidity  \\\n",
      "0  2024-04-06 12:00:27+05:30      1256    163  42.0         33.8      49.0   \n",
      "1  2024-04-06 12:01:30+05:30      1257    162  37.0         33.8      49.0   \n",
      "2  2024-04-06 12:02:32+05:30      1258    173  47.0         33.7      50.0   \n",
      "3  2024-04-06 12:03:34+05:30      1259    168  37.0         33.3      51.0   \n",
      "4  2024-04-06 12:04:36+05:30      1260    168  37.0         33.3      52.0   \n",
      "\n",
      "     VOC  DustDensity  AirQualityIndex  latitude  longitude  elevation  status  \n",
      "0  520.0         18.0             21.0       NaN        NaN        NaN     NaN  \n",
      "1  637.0         36.0              9.0       NaN        NaN        NaN     NaN  \n",
      "2  679.0         42.0              3.0       NaN        NaN        NaN     NaN  \n",
      "3  539.0         21.0              0.0       NaN        NaN        NaN     NaN  \n",
      "4  697.0         45.0              0.0       NaN        NaN        NaN     NaN  \n"
     ]
    }
   ],
   "source": [
    "print(df.columns)\n",
    "print(df.head())\n"
   ]
  },
  {
   "cell_type": "code",
   "execution_count": 27,
   "metadata": {},
   "outputs": [
    {
     "name": "stdout",
     "output_type": "stream",
     "text": [
      "Warning: Missing values found in dataset!\n"
     ]
    },
    {
     "name": "stderr",
     "output_type": "stream",
     "text": [
      "/var/folders/9d/8ldx6syj5ms3xms5s9mybtkc0000gn/T/ipykernel_85037/986857329.py:5: FutureWarning: DataFrame.fillna with 'method' is deprecated and will raise in a future version. Use obj.ffill() or obj.bfill() instead.\n",
      "  df.fillna(method='ffill', inplace=True)  # Forward fill as an example\n"
     ]
    }
   ],
   "source": [
    "# Check for missing data\n",
    "if df.isnull().sum().any():\n",
    "    print(\"Warning: Missing values found in dataset!\")\n",
    "    # Handle missing values by either removing or filling them\n",
    "    df.fillna(method='ffill', inplace=True)  # Forward fill as an example\n"
   ]
  },
  {
   "cell_type": "code",
   "execution_count": 28,
   "metadata": {},
   "outputs": [
    {
     "name": "stdout",
     "output_type": "stream",
     "text": [
      "Initial columns in DataFrame: Index(['created_at', 'entry_id', 'field1', 'field2', 'field3', 'field4',\n",
      "       'field5', 'field6', 'field7', 'latitude', 'longitude', 'elevation',\n",
      "       'status'],\n",
      "      dtype='object')\n",
      "PM2.5 column found: field6\n",
      "Data after filtering non-zero PM2.5 values:                   created_at  entry_id  field1  field2  field3  field4  \\\n",
      "0  2024-04-06 12:00:27+05:30      1256     163    42.0    33.8    49.0   \n",
      "1  2024-04-06 12:01:30+05:30      1257     162    37.0    33.8    49.0   \n",
      "2  2024-04-06 12:02:32+05:30      1258     173    47.0    33.7    50.0   \n",
      "3  2024-04-06 12:03:34+05:30      1259     168    37.0    33.3    51.0   \n",
      "4  2024-04-06 12:04:36+05:30      1260     168    37.0    33.3    52.0   \n",
      "\n",
      "   field5  PM2.5 (μg/m3)  field7  latitude  longitude  elevation  status  \n",
      "0   520.0           18.0    21.0       NaN        NaN        NaN     NaN  \n",
      "1   637.0           36.0     9.0       NaN        NaN        NaN     NaN  \n",
      "2   679.0           42.0     3.0       NaN        NaN        NaN     NaN  \n",
      "3   539.0           21.0     0.0       NaN        NaN        NaN     NaN  \n",
      "4   697.0           45.0     0.0       NaN        NaN        NaN     NaN  \n",
      "Error: Missing columns in DataFrame: ['AH']\n"
     ]
    },
    {
     "name": "stderr",
     "output_type": "stream",
     "text": [
      "/var/folders/9d/8ldx6syj5ms3xms5s9mybtkc0000gn/T/ipykernel_85037/1272220987.py:29: SettingWithCopyWarning: \n",
      "A value is trying to be set on a copy of a slice from a DataFrame\n",
      "\n",
      "See the caveats in the documentation: https://pandas.pydata.org/pandas-docs/stable/user_guide/indexing.html#returning-a-view-versus-a-copy\n",
      "  df_filtered.rename(columns=column_map, inplace=True)\n"
     ]
    }
   ],
   "source": [
    "from sklearn.preprocessing import MinMaxScaler\n",
    "import matplotlib.pyplot as plt\n",
    "\n",
    "# Load dataset and check initial columns\n",
    "df = pd.read_csv('indoor_data.csv')  # Replace with your file path\n",
    "print(\"Initial columns in DataFrame:\", df.columns)\n",
    "\n",
    "# Identify and rename the PM2.5 column\n",
    "pm25_column = None\n",
    "for col in df.columns:\n",
    "    if 'PM2.5' in col or 'field6' in col:  # Adjust condition based on likely column name\n",
    "        pm25_column = col\n",
    "        print(f\"PM2.5 column found: {pm25_column}\")\n",
    "        df.rename(columns={pm25_column: 'PM2.5 (μg/m3)'}, inplace=True)\n",
    "        break\n",
    "\n",
    "if not pm25_column:\n",
    "    print(\"Error: PM2.5 column not found in the dataset.\")\n",
    "    exit()\n",
    "\n",
    "# Proceed with filtering and processing\n",
    "df_filtered = df[df['PM2.5 (μg/m3)'] > 0]\n",
    "print(\"Data after filtering non-zero PM2.5 values:\", df_filtered.head())\n",
    "\n",
    "# Normalize data\n",
    "expected_columns = ['PM2.5 (μg/m3)', 'CO', 'T', 'AH']\n",
    "column_map = {'field5': 'CO', 'field7': 'T'}  # Add other mappings as needed\n",
    "\n",
    "df_filtered.rename(columns=column_map, inplace=True)\n",
    "missing_columns = [col for col in expected_columns if col not in df_filtered.columns]\n",
    "\n",
    "if missing_columns:\n",
    "    print(f\"Error: Missing columns in DataFrame: {missing_columns}\")\n",
    "else:\n",
    "    scaler = MinMaxScaler()\n",
    "    df_filtered[expected_columns] = scaler.fit_transform(df_filtered[expected_columns])\n",
    "\n",
    "    # Plot normalized data\n",
    "    plt.figure(figsize=(10, 6))\n",
    "    for column in expected_columns:\n",
    "        plt.plot(df_filtered[column], label=column)\n",
    "    plt.title('Normalized Air Quality Data')\n",
    "    plt.xlabel('Index')\n",
    "    plt.ylabel('Normalized Value')\n",
    "    plt.legend()\n",
    "    plt.grid(True)\n",
    "    plt.show()\n"
   ]
  },
  {
   "cell_type": "code",
   "execution_count": 29,
   "metadata": {},
   "outputs": [
    {
     "name": "stdout",
     "output_type": "stream",
     "text": [
      "Initial columns in DataFrame: Index(['created_at', 'entry_id', 'field1', 'field2', 'field3', 'field4',\n",
      "       'field5', 'PM2.5 (μg/m3)', 'field7', 'latitude', 'longitude',\n",
      "       'elevation', 'status'],\n",
      "      dtype='object')\n"
     ]
    }
   ],
   "source": [
    "print(\"Initial columns in DataFrame:\", df.columns)\n"
   ]
  },
  {
   "cell_type": "code",
   "execution_count": 30,
   "metadata": {},
   "outputs": [
    {
     "name": "stdout",
     "output_type": "stream",
     "text": [
      "Initial columns in DataFrame: Index(['created_at', 'entry_id', 'field1', 'field2', 'field3', 'field4',\n",
      "       'field5', 'field6', 'field7', 'latitude', 'longitude', 'elevation',\n",
      "       'status'],\n",
      "      dtype='object')\n",
      "Columns after renaming: Index(['created_at', 'entry_id', 'field1', 'field2', 'field3', 'field4',\n",
      "       'field5', 'field6', 'field7', 'latitude', 'longitude', 'elevation',\n",
      "       'status'],\n",
      "      dtype='object')\n",
      "Error: Missing columns in DataFrame after renaming: ['PM2.5', 'CO', 'T', 'AH']\n",
      "Error: 'PM2.5' column is missing after renaming.\n",
      "No data to normalize.\n",
      "No data to plot.\n"
     ]
    }
   ],
   "source": [
    "import pandas as pd\n",
    "from sklearn.preprocessing import MinMaxScaler\n",
    "import matplotlib.pyplot as plt\n",
    "\n",
    "# Load the data into a DataFrame\n",
    "df = pd.read_csv('indoor_data.csv')  # Replace with your actual file path\n",
    "\n",
    "# Print the initial columns in the DataFrame\n",
    "print(\"Initial columns in DataFrame:\", df.columns)\n",
    "# Step 2: Define the expected columns and mapping\n",
    "expected_columns = ['PM2.5', 'CO', 'T', 'AH']\n",
    "column_map = {\n",
    "    'PM2.5 (μg/m3)': 'PM2.5',\n",
    "    'CO (mg/m3)': 'CO',\n",
    "    'T (°C)': 'T',\n",
    "    'AH (g/m3)': 'AH'\n",
    "}\n",
    "\n",
    "# Step 3: Clean column names and apply renaming\n",
    "df.columns = df.columns.str.strip()  # Remove any extra whitespace in column names\n",
    "df.rename(columns=column_map, inplace=True)\n",
    "\n",
    "# Step 4: Check if all required columns are present\n",
    "print(\"Columns after renaming:\", df.columns)\n",
    "missing_columns = [col for col in expected_columns if col not in df.columns]\n",
    "if missing_columns:\n",
    "    print(f\"Error: Missing columns in DataFrame after renaming: {missing_columns}\")\n",
    "    exit()\n",
    "\n",
    "# Step 5: Filter rows where PM2.5 > 0\n",
    "if 'PM2.5' in df.columns:\n",
    "    df_filtered = df[df['PM2.5'] > 0]\n",
    "    print(\"Data after filtering non-zero PM2.5 values:\", df_filtered.head())\n",
    "else:\n",
    "    print(\"Error: 'PM2.5' column is missing after renaming.\")\n",
    "    df_filtered = pd.DataFrame(columns=expected_columns)  # Define an empty DataFrame to avoid NameError\n",
    "\n",
    "# Step 6: Normalize the data if df_filtered is not empty\n",
    "if not df_filtered.empty:\n",
    "    scaler = MinMaxScaler()\n",
    "    df_filtered[expected_columns] = scaler.fit_transform(df_filtered[expected_columns])\n",
    "    print(\"Data after normalization:\", df_filtered.head())\n",
    "else:\n",
    "    print(\"No data to normalize.\")\n",
    "\n",
    "# Step 7: Visualize the normalized data if df_filtered is not empty\n",
    "if not df_filtered.empty:\n",
    "    plt.figure(figsize=(10, 6))\n",
    "    for column in expected_columns:\n",
    "        plt.plot(df_filtered[column], label=column)\n",
    "\n",
    "    plt.title('Normalized Air Quality Data')\n",
    "    plt.xlabel('Index')\n",
    "    plt.ylabel('Normalized Value')\n",
    "    plt.legend()\n",
    "    plt.grid(True)\n",
    "    plt.show()\n",
    "else:\n",
    "    print(\"No data to plot.\")\n",
    "\n",
    "# Step 8: Proceed with further processing (e.g., LSTM)"
   ]
  },
  {
   "cell_type": "markdown",
   "metadata": {},
   "source": [
    "## Model Training and Evaluation\n",
    "Train various models, including Linear Regression, Random Forest, and Gradient Boosting, and evaluate their performance.\n"
   ]
  },
  {
   "cell_type": "code",
   "execution_count": 31,
   "metadata": {},
   "outputs": [
    {
     "name": "stdout",
     "output_type": "stream",
     "text": [
      "Columns in DataFrame: Index(['created_at', 'entry_id', 'field1', 'field2', 'field3', 'field4',\n",
      "       'field5', 'field6', 'field7', 'latitude', 'longitude', 'elevation',\n",
      "       'status'],\n",
      "      dtype='object')\n",
      "Renamed Columns in DataFrame: Index(['created_at', 'entry_id', 'CO(GT)', 'T', 'RH', 'field4', 'field5',\n",
      "       'field6', 'field7', 'latitude', 'longitude', 'elevation', 'status'],\n",
      "      dtype='object')\n",
      "Linear Regression MSE: 3.146461833798385e-28\n",
      "Linear Regression R²: 1.0\n",
      "Linear Regression MAE: 1.1070628392367104e-14\n",
      "Random Forest MSE: 0.002378651685393253\n",
      "Random Forest R²: 0.99998927780137\n",
      "Random Forest MAE: 0.006853932584269603\n",
      "Gradient Boosting MSE: 0.0001920147195199355\n",
      "Gradient Boosting R²: 0.9999991344592505\n",
      "Gradient Boosting MAE: 0.005094001361664062\n",
      "The best model based on MSE is: Linear Regression\n"
     ]
    }
   ],
   "source": [
    "import pandas as pd\n",
    "\n",
    "# Load the dataset\n",
    "df = pd.read_csv('indoor_data.csv')  # Replace with your actual file path\n",
    "\n",
    "# Print the columns of the DataFrame to verify\n",
    "print(\"Columns in DataFrame:\", df.columns)\n",
    "\n",
    "# Rename columns if necessary\n",
    "df = df.rename(columns={\n",
    "    'field1': 'CO(GT)',\n",
    "    'field2': 'T',\n",
    "    'field3': 'RH'\n",
    "})\n",
    "\n",
    "# Verify the renamed columns\n",
    "print(\"Renamed Columns in DataFrame:\", df.columns)\n",
    "\n",
    "# Define features and target variable\n",
    "# Ensure these columns exist in your DataFrame\n",
    "X = df[['CO(GT)', 'T', 'RH']]\n",
    "y = df['CO(GT)']\n",
    "\n",
    "# Split the data into training and test sets\n",
    "from sklearn.model_selection import train_test_split\n",
    "X_train, X_test, y_train, y_test = train_test_split(X, y, test_size=0.2, random_state=42)\n",
    "\n",
    "# Train and evaluate models\n",
    "from sklearn.linear_model import LinearRegression\n",
    "from sklearn.ensemble import RandomForestRegressor, GradientBoostingRegressor\n",
    "from sklearn.metrics import mean_squared_error, r2_score, mean_absolute_error\n",
    "\n",
    "# 1. Linear Regression\n",
    "lr_model = LinearRegression()\n",
    "lr_model.fit(X_train, y_train)\n",
    "y_pred_lr = lr_model.predict(X_test)\n",
    "print(\"Linear Regression MSE:\", mean_squared_error(y_test, y_pred_lr))\n",
    "print(\"Linear Regression R²:\", r2_score(y_test, y_pred_lr))\n",
    "print(\"Linear Regression MAE:\", mean_absolute_error(y_test, y_pred_lr))\n",
    "\n",
    "# 2. Random Forest\n",
    "rf_model = RandomForestRegressor(n_estimators=100, random_state=42)\n",
    "rf_model.fit(X_train, y_train)\n",
    "y_pred_rf = rf_model.predict(X_test)\n",
    "print(\"Random Forest MSE:\", mean_squared_error(y_test, y_pred_rf))\n",
    "print(\"Random Forest R²:\", r2_score(y_test, y_pred_rf))\n",
    "print(\"Random Forest MAE:\", mean_absolute_error(y_test, y_pred_rf))\n",
    "\n",
    "# 3. Gradient Boosting\n",
    "gb_model = GradientBoostingRegressor(n_estimators=100, random_state=42)\n",
    "gb_model.fit(X_train, y_train)\n",
    "y_pred_gb = gb_model.predict(X_test)\n",
    "print(\"Gradient Boosting MSE:\", mean_squared_error(y_test, y_pred_gb))\n",
    "print(\"Gradient Boosting R²:\", r2_score(y_test, y_pred_gb))\n",
    "print(\"Gradient Boosting MAE:\", mean_absolute_error(y_test, y_pred_gb))\n",
    "\n",
    "models_performance = {\n",
    "    \"Linear Regression\": mean_squared_error(y_test, y_pred_lr),\n",
    "    \"Random Forest\": mean_squared_error(y_test, y_pred_rf),\n",
    "    \"Gradient Boosting\": mean_squared_error(y_test, y_pred_gb)\n",
    "}\n",
    "\n",
    "best_model = min(models_performance, key=models_performance.get)\n",
    "print(f\"The best model based on MSE is: {best_model}\")"
   ]
  },
  {
   "cell_type": "code",
   "execution_count": 1,
   "metadata": {},
   "outputs": [
    {
     "name": "stdout",
     "output_type": "stream",
     "text": [
      "Columns in DataFrame: Index(['created_at', 'entry_id', 'field1', 'field2', 'field3', 'field4',\n",
      "       'field5', 'field6', 'field7', 'latitude', 'longitude', 'elevation',\n",
      "       'status'],\n",
      "      dtype='object')\n",
      "Renamed Columns in DataFrame: Index(['created_at', 'entry_id', 'CO', 'T', 'RH', 'field4', 'field5', 'field6',\n",
      "       'field7', 'latitude', 'longitude', 'elevation', 'status'],\n",
      "      dtype='object')\n",
      "Linear Regression MSE: 3.146461833798385e-28\n",
      "Linear Regression R²: 1.0\n",
      "Linear Regression MAE: 1.1070628392367104e-14\n",
      "Random Forest MSE: 0.002378651685393253\n",
      "Random Forest R²: 0.99998927780137\n",
      "Random Forest MAE: 0.006853932584269603\n",
      "Gradient Boosting MSE: 0.0001920147195199355\n",
      "Gradient Boosting R²: 0.9999991344592505\n",
      "Gradient Boosting MAE: 0.005094001361664062\n",
      "The best model based on MSE is: Linear Regression\n"
     ]
    }
   ],
   "source": [
    "import pandas as pd\n",
    "\n",
    "# Load the dataset\n",
    "df = pd.read_csv('indoor_data.csv')  # Replace with your actual file path\n",
    "\n",
    "# Print the columns of the DataFrame to verify\n",
    "print(\"Columns in DataFrame:\", df.columns)\n",
    "\n",
    "# Map the existing columns to the desired names\n",
    "column_map = {\n",
    "    'field1': 'CO',\n",
    "    'field2': 'T',\n",
    "    'field3': 'RH'\n",
    "}\n",
    "\n",
    "# Rename the columns\n",
    "df.rename(columns=column_map, inplace=True)\n",
    "\n",
    "# Verify the renamed columns\n",
    "print(\"Renamed Columns in DataFrame:\", df.columns)\n",
    "\n",
    "# Define features and target variable\n",
    "# Ensure these columns exist in your DataFrame\n",
    "X = df[['CO', 'T', 'RH']]\n",
    "y = df['CO']\n",
    "\n",
    "# Split the data into training and test sets\n",
    "from sklearn.model_selection import train_test_split\n",
    "X_train, X_test, y_train, y_test = train_test_split(X, y, test_size=0.2, random_state=42)\n",
    "\n",
    "# Train and evaluate models\n",
    "from sklearn.linear_model import LinearRegression\n",
    "from sklearn.ensemble import RandomForestRegressor, GradientBoostingRegressor\n",
    "from sklearn.metrics import mean_squared_error, r2_score, mean_absolute_error\n",
    "\n",
    "# 1. Linear Regression\n",
    "lr_model = LinearRegression()\n",
    "lr_model.fit(X_train, y_train)\n",
    "y_pred_lr = lr_model.predict(X_test)\n",
    "print(\"Linear Regression MSE:\", mean_squared_error(y_test, y_pred_lr))\n",
    "print(\"Linear Regression R²:\", r2_score(y_test, y_pred_lr))\n",
    "print(\"Linear Regression MAE:\", mean_absolute_error(y_test, y_pred_lr))\n",
    "\n",
    "# 2. Random Forest\n",
    "rf_model = RandomForestRegressor(n_estimators=100, random_state=42)\n",
    "rf_model.fit(X_train, y_train)\n",
    "y_pred_rf = rf_model.predict(X_test)\n",
    "print(\"Random Forest MSE:\", mean_squared_error(y_test, y_pred_rf))\n",
    "print(\"Random Forest R²:\", r2_score(y_test, y_pred_rf))\n",
    "print(\"Random Forest MAE:\", mean_absolute_error(y_test, y_pred_rf))\n",
    "\n",
    "# 3. Gradient Boosting\n",
    "gb_model = GradientBoostingRegressor(n_estimators=100, random_state=42)\n",
    "gb_model.fit(X_train, y_train)\n",
    "y_pred_gb = gb_model.predict(X_test)\n",
    "print(\"Gradient Boosting MSE:\", mean_squared_error(y_test, y_pred_gb))\n",
    "print(\"Gradient Boosting R²:\", r2_score(y_test, y_pred_gb))\n",
    "print(\"Gradient Boosting MAE:\", mean_absolute_error(y_test, y_pred_gb))\n",
    "\n",
    "models_performance = {\n",
    "    \"Linear Regression\": mean_squared_error(y_test, y_pred_lr),\n",
    "    \"Random Forest\": mean_squared_error(y_test, y_pred_rf),\n",
    "    \"Gradient Boosting\": mean_squared_error(y_test, y_pred_gb)\n",
    "}\n",
    "\n",
    "best_model = min(models_performance, key=models_performance.get)\n",
    "print(f\"The best model based on MSE is: {best_model}\")"
   ]
  },
  {
   "cell_type": "code",
   "execution_count": null,
   "metadata": {},
   "outputs": [],
   "source": [
    "import pandas as pd\n",
    "import numpy as np\n",
    "from tensorflow.keras.models import Sequential\n",
    "from tensorflow.keras.layers import LSTM, Dense\n",
    "from sklearn.metrics import mean_squared_error\n",
    "\n",
    "# Load dataset\n",
    "df = pd.read_csv('indoor_data.csv')\n",
    "print(\"Available columns:\", df.columns)\n",
    "\n",
    "# Clean column names\n",
    "df.columns = df.columns.str.strip()\n",
    "\n",
    "# Define required columns\n",
    "required_columns = ['CO', 'PT08.S1(CO)', 'NMHC', 'AirQuality']\n",
    "\n",
    "# Rename columns to standard names\n",
    "df.rename(columns={\n",
    "    'CO (GT)': 'CO',\n",
    "    'PT08 S1 (CO)': 'PT08.S1(CO)',\n",
    "    'NMHC (GT)': 'NMHC',\n",
    "    'Air Quality': 'AirQuality'\n",
    "}, inplace=True)\n",
    "\n",
    "# Check for missing columns\n",
    "missing_columns = [col for col in required_columns if col not in df.columns]\n",
    "if missing_columns:\n",
    "    print(f\"Warning: Missing columns in dataset: {missing_columns}\")\n",
    "    print(\"Available columns:\", df.columns)\n",
    "else:\n",
    "    # Proceed with data preparation\n",
    "    X_time_series = df[['CO', 'PT08.S1(CO)', 'NMHC']].values\n",
    "    y_time_series = df['AirQuality'].values\n",
    "\n",
    "    # Add a check for data dimensions\n",
    "    if len(X_time_series) == 0 or len(y_time_series) == 0:\n",
    "        print(\"Error: Data is empty after filtering.\")\n",
    "    else:\n",
    "        # Expand dimensions for LSTM input\n",
    "        X_time_series = np.expand_dims(X_time_series, axis=1)\n",
    "\n",
    "        # Split data\n",
    "        train_size = int(0.8 * len(X_time_series))\n",
    "        X_train_ts, X_test_ts = X_time_series[:train_size], X_time_series[train_size:]\n",
    "        y_train_ts, y_test_ts = y_time_series[:train_size], y_time_series[train_size:]\n",
    "\n",
    "        # **Optimization: Subset data for testing (optional)**\n",
    "        # Uncomment if you want to reduce data for quick testing\n",
    "        X_train_ts, y_train_ts = X_train_ts[:1000], y_train_ts[:1000]\n",
    "\n",
    "        # Reduce model complexity (e.g., fewer LSTM units)\n",
    "        lstm_model = Sequential()\n",
    "        lstm_model.add(LSTM(32, input_shape=(X_train_ts.shape[1], X_train_ts.shape[2])))\n",
    "        lstm_model.add(Dense(1))\n",
    "        lstm_model.compile(optimizer='adam', loss='mse')\n",
    "\n",
    "        # Reduce batch size to avoid memory issues\n",
    "        lstm_model.fit(X_train_ts, y_train_ts, epochs=10, batch_size=16, validation_data=(X_test_ts, y_test_ts))\n",
    "\n",
    "        # Evaluate the model\n",
    "        lstm_predictions = lstm_model.predict(X_test_ts)\n",
    "        mse = mean_squared_error(y_test_ts, lstm_predictions)\n",
    "        print(f\"LSTM MSE: {mse}\")\n",
    "        print(f\"LSTM Predictions: {lstm_predictions[:5]}\")  # Preview first few predictions"
   ]
  },
  {
   "cell_type": "code",
   "execution_count": 2,
   "metadata": {},
   "outputs": [
    {
     "name": "stdout",
     "output_type": "stream",
     "text": [
      "Available columns: Index(['created_at', 'entry_id', 'field1', 'field2', 'field3', 'field4',\n",
      "       'field5', 'field6', 'field7', 'latitude', 'longitude', 'elevation',\n",
      "       'status'],\n",
      "      dtype='object')\n",
      "Warning: Missing columns in dataset: ['CO', 'PT08.S1(CO)', 'NMHC', 'AirQuality']\n",
      "Available columns: Index(['created_at', 'entry_id', 'field1', 'field2', 'field3', 'field4',\n",
      "       'field5', 'field6', 'field7', 'latitude', 'longitude', 'elevation',\n",
      "       'status'],\n",
      "      dtype='object')\n"
     ]
    }
   ],
   "source": [
    "import pandas as pd\n",
    "import numpy as np\n",
    "from tensorflow.keras.models import Sequential\n",
    "from tensorflow.keras.layers import LSTM, Dense\n",
    "from sklearn.metrics import mean_squared_error\n",
    "\n",
    "# Load dataset\n",
    "df = pd.read_csv('indoor_data.csv')\n",
    "print(\"Available columns:\", df.columns)\n",
    "\n",
    "# Clean column names\n",
    "df.columns = df.columns.str.strip()\n",
    "\n",
    "# Define required columns\n",
    "required_columns = ['CO', 'PT08.S1(CO)', 'NMHC', 'AirQuality']\n",
    "\n",
    "# Rename columns if needed\n",
    "df.rename(columns={\n",
    "    'CO (GT)': 'CO',\n",
    "    'PT08 S1 (CO)': 'PT08.S1(CO)',\n",
    "    'NMHC (GT)': 'NMHC',\n",
    "    'Air Quality': 'AirQuality'\n",
    "}, inplace=True)\n",
    "\n",
    "# Check for missing columns\n",
    "missing_columns = [col for col in required_columns if col not in df.columns]\n",
    "if missing_columns:\n",
    "    print(f\"Warning: Missing columns in dataset: {missing_columns}\")\n",
    "    print(\"Available columns:\", df.columns)\n",
    "else:\n",
    "    # Proceed with data preparation\n",
    "    X_time_series = df[['CO', 'PT08.S1(CO)', 'NMHC']].values\n",
    "    y_time_series = df['AirQuality'].values\n",
    "\n",
    "    X_time_series = np.expand_dims(X_time_series, axis=1)\n",
    "\n",
    "    # Split data\n",
    "    train_size = int(0.8 * len(X_time_series))\n",
    "    X_train_ts, X_test_ts = X_time_series[:train_size], X_time_series[train_size:]\n",
    "    y_train_ts, y_test_ts = y_time_series[:train_size], y_time_series[train_size:]\n",
    "\n",
    "    # Build and train LSTM model\n",
    "    lstm_model = Sequential()\n",
    "    lstm_model.add(LSTM(50, input_shape=(X_train_ts.shape[1], X_train_ts.shape[2])))\n",
    "    lstm_model.add(Dense(1))\n",
    "    lstm_model.compile(optimizer='adam', loss='mse')\n",
    "\n",
    "    lstm_model.fit(X_train_ts, y_train_ts, epochs=10, batch_size=32, validation_data=(X_test_ts, y_test_ts))\n",
    "\n",
    "    # Evaluate the model\n",
    "    lstm_predictions = lstm_model.predict(X_test_ts)\n",
    "    print(\"LSTM MSE:\", mean_squared_error(y_test_ts, lstm_predictions))\n",
    "\n",
    "    # Evaluate the model and print results\n",
    "    lstm_predictions = lstm_model.predict(X_test_ts)\n",
    "    mse = mean_squared_error(y_test_ts, lstm_predictions)\n",
    "    print(f\"LSTM MSE: {mse}\")\n",
    "    print(f\"LSTM Predictions: {lstm_predictions[:5]}\")  # Preview first few predictions"
   ]
  },
  {
   "cell_type": "code",
   "execution_count": 3,
   "metadata": {},
   "outputs": [
    {
     "name": "stdout",
     "output_type": "stream",
     "text": [
      "Available columns: Index(['created_at', 'entry_id', 'field1', 'field2', 'field3', 'field4',\n",
      "       'field5', 'field6', 'field7', 'latitude', 'longitude', 'elevation',\n",
      "       'status'],\n",
      "      dtype='object')\n",
      "Warning: Missing columns in dataset: ['CO', 'PT08.S1', 'NMHC', 'AirQuality']\n",
      "Available columns: Index(['created_at', 'entry_id', 'field1', 'field2', 'field3', 'field4',\n",
      "       'field5', 'field6', 'field7', 'latitude', 'longitude', 'elevation',\n",
      "       'status'],\n",
      "      dtype='object')\n"
     ]
    }
   ],
   "source": [
    "import pandas as pd\n",
    "import numpy as np\n",
    "from tensorflow.keras.models import Sequential\n",
    "from tensorflow.keras.layers import LSTM, Dense\n",
    "from sklearn.metrics import mean_squared_error\n",
    "\n",
    "# Load and verify the dataset\n",
    "df = pd.read_csv('indoor_data.csv')\n",
    "print(\"Available columns:\", df.columns)\n",
    "\n",
    "# Clean column names\n",
    "df.columns = df.columns.str.strip()\n",
    "\n",
    "# Define required columns based on dataset structure\n",
    "required_columns = ['CO', 'PT08.S1', 'NMHC', 'AirQuality']\n",
    "\n",
    "# Rename columns if needed\n",
    "df.rename(columns={\n",
    "    'CO (GT)': 'CO',\n",
    "    'PT08 S1 (CO)': 'PT08.S1',\n",
    "    'NMHC (GT)': 'NMHC',\n",
    "    'Air Quality': 'AirQuality'\n",
    "}, inplace=True)\n",
    "\n",
    "# Check for missing columns\n",
    "missing_columns = [col for col in required_columns if col not in df.columns]\n",
    "if missing_columns:\n",
    "    print(f\"Warning: Missing columns in dataset: {missing_columns}\")\n",
    "    print(\"Available columns:\", df.columns)\n",
    "else:\n",
    "    # Proceed with data preparation and model training\n",
    "    X_time_series = df[['CO', 'PT08.S1', 'NMHC']].values\n",
    "    y_time_series = df['AirQuality'].values\n",
    "    X_time_series = np.expand_dims(X_time_series, axis=1)\n",
    "\n",
    "    print(f\"Shape of X_time_series: {X_time_series.shape}\")\n",
    "    print(f\"Shape of y_time_series: {y_time_series.shape}\")\n",
    "\n",
    "    # Continue with your LSTM code"
   ]
  },
  {
   "cell_type": "code",
   "execution_count": 4,
   "metadata": {},
   "outputs": [
    {
     "name": "stdout",
     "output_type": "stream",
     "text": [
      "Index(['created_at', 'entry_id', 'field1', 'field2', 'field3', 'field4',\n",
      "       'field5', 'field6', 'field7', 'latitude', 'longitude', 'elevation',\n",
      "       'status'],\n",
      "      dtype='object')\n",
      "                  created_at  entry_id  field1  field2  field3  field4  \\\n",
      "0  2024-04-06 12:00:27+05:30      1256     163    42.0    33.8    49.0   \n",
      "1  2024-04-06 12:01:30+05:30      1257     162    37.0    33.8    49.0   \n",
      "2  2024-04-06 12:02:32+05:30      1258     173    47.0    33.7    50.0   \n",
      "3  2024-04-06 12:03:34+05:30      1259     168    37.0    33.3    51.0   \n",
      "4  2024-04-06 12:04:36+05:30      1260     168    37.0    33.3    52.0   \n",
      "\n",
      "   field5  field6  field7  latitude  longitude  elevation  status  \n",
      "0   520.0    18.0    21.0       NaN        NaN        NaN     NaN  \n",
      "1   637.0    36.0     9.0       NaN        NaN        NaN     NaN  \n",
      "2   679.0    42.0     3.0       NaN        NaN        NaN     NaN  \n",
      "3   539.0    21.0     0.0       NaN        NaN        NaN     NaN  \n",
      "4   697.0    45.0     0.0       NaN        NaN        NaN     NaN  \n"
     ]
    }
   ],
   "source": [
    "# Print the column names of the DataFrame\n",
    "print(df.columns)\n",
    "\n",
    "# Ensure the DataFrame is loaded correctly\n",
    "print(df.head())"
   ]
  },
  {
   "cell_type": "code",
   "execution_count": 5,
   "metadata": {},
   "outputs": [
    {
     "name": "stdout",
     "output_type": "stream",
     "text": [
      "Epoch 1/50\n"
     ]
    },
    {
     "name": "stderr",
     "output_type": "stream",
     "text": [
      "/opt/homebrew/lib/python3.10/site-packages/keras/src/layers/rnn/rnn.py:200: UserWarning: Do not pass an `input_shape`/`input_dim` argument to a layer. When using Sequential models, prefer using an `Input(shape)` object as the first layer in the model instead.\n",
      "  super().__init__(**kwargs)\n"
     ]
    },
    {
     "name": "stdout",
     "output_type": "stream",
     "text": [
      "\u001b[1m42/42\u001b[0m \u001b[32m━━━━━━━━━━━━━━━━━━━━\u001b[0m\u001b[37m\u001b[0m \u001b[1m1s\u001b[0m 3ms/step - loss: 34448.6445  \n",
      "Epoch 2/50\n",
      "\u001b[1m42/42\u001b[0m \u001b[32m━━━━━━━━━━━━━━━━━━━━\u001b[0m\u001b[37m\u001b[0m \u001b[1m0s\u001b[0m 2ms/step - loss: 32491.0938\n",
      "Epoch 3/50\n",
      "\u001b[1m42/42\u001b[0m \u001b[32m━━━━━━━━━━━━━━━━━━━━\u001b[0m\u001b[37m\u001b[0m \u001b[1m0s\u001b[0m 2ms/step - loss: 30614.8965\n",
      "Epoch 4/50\n",
      "\u001b[1m42/42\u001b[0m \u001b[32m━━━━━━━━━━━━━━━━━━━━\u001b[0m\u001b[37m\u001b[0m \u001b[1m0s\u001b[0m 2ms/step - loss: 28816.1777\n",
      "Epoch 5/50\n",
      "\u001b[1m42/42\u001b[0m \u001b[32m━━━━━━━━━━━━━━━━━━━━\u001b[0m\u001b[37m\u001b[0m \u001b[1m0s\u001b[0m 2ms/step - loss: 27711.6621\n",
      "Epoch 6/50\n",
      "\u001b[1m42/42\u001b[0m \u001b[32m━━━━━━━━━━━━━━━━━━━━\u001b[0m\u001b[37m\u001b[0m \u001b[1m0s\u001b[0m 1ms/step - loss: 26139.2715\n",
      "Epoch 7/50\n",
      "\u001b[1m42/42\u001b[0m \u001b[32m━━━━━━━━━━━━━━━━━━━━\u001b[0m\u001b[37m\u001b[0m \u001b[1m0s\u001b[0m 2ms/step - loss: 25209.7656\n",
      "Epoch 8/50\n",
      "\u001b[1m42/42\u001b[0m \u001b[32m━━━━━━━━━━━━━━━━━━━━\u001b[0m\u001b[37m\u001b[0m \u001b[1m0s\u001b[0m 2ms/step - loss: 24557.5293\n",
      "Epoch 9/50\n",
      "\u001b[1m42/42\u001b[0m \u001b[32m━━━━━━━━━━━━━━━━━━━━\u001b[0m\u001b[37m\u001b[0m \u001b[1m0s\u001b[0m 2ms/step - loss: 23649.9746\n",
      "Epoch 10/50\n",
      "\u001b[1m42/42\u001b[0m \u001b[32m━━━━━━━━━━━━━━━━━━━━\u001b[0m\u001b[37m\u001b[0m \u001b[1m0s\u001b[0m 2ms/step - loss: 22534.9180\n",
      "Epoch 11/50\n",
      "\u001b[1m42/42\u001b[0m \u001b[32m━━━━━━━━━━━━━━━━━━━━\u001b[0m\u001b[37m\u001b[0m \u001b[1m0s\u001b[0m 1ms/step - loss: 21733.4902 \n",
      "Epoch 12/50\n",
      "\u001b[1m42/42\u001b[0m \u001b[32m━━━━━━━━━━━━━━━━━━━━\u001b[0m\u001b[37m\u001b[0m \u001b[1m0s\u001b[0m 1ms/step - loss: 21140.6914\n",
      "Epoch 13/50\n",
      "\u001b[1m42/42\u001b[0m \u001b[32m━━━━━━━━━━━━━━━━━━━━\u001b[0m\u001b[37m\u001b[0m \u001b[1m0s\u001b[0m 1ms/step - loss: 20295.8320\n",
      "Epoch 14/50\n",
      "\u001b[1m42/42\u001b[0m \u001b[32m━━━━━━━━━━━━━━━━━━━━\u001b[0m\u001b[37m\u001b[0m \u001b[1m0s\u001b[0m 1ms/step - loss: 19626.0547\n",
      "Epoch 15/50\n",
      "\u001b[1m42/42\u001b[0m \u001b[32m━━━━━━━━━━━━━━━━━━━━\u001b[0m\u001b[37m\u001b[0m \u001b[1m0s\u001b[0m 1ms/step - loss: 18856.8672\n",
      "Epoch 16/50\n",
      "\u001b[1m42/42\u001b[0m \u001b[32m━━━━━━━━━━━━━━━━━━━━\u001b[0m\u001b[37m\u001b[0m \u001b[1m0s\u001b[0m 2ms/step - loss: 18132.4609\n",
      "Epoch 17/50\n",
      "\u001b[1m42/42\u001b[0m \u001b[32m━━━━━━━━━━━━━━━━━━━━\u001b[0m\u001b[37m\u001b[0m \u001b[1m0s\u001b[0m 2ms/step - loss: 17554.4766\n",
      "Epoch 18/50\n",
      "\u001b[1m42/42\u001b[0m \u001b[32m━━━━━━━━━━━━━━━━━━━━\u001b[0m\u001b[37m\u001b[0m \u001b[1m0s\u001b[0m 2ms/step - loss: 16957.9043\n",
      "Epoch 19/50\n",
      "\u001b[1m42/42\u001b[0m \u001b[32m━━━━━━━━━━━━━━━━━━━━\u001b[0m\u001b[37m\u001b[0m \u001b[1m0s\u001b[0m 2ms/step - loss: 16089.3643\n",
      "Epoch 20/50\n",
      "\u001b[1m42/42\u001b[0m \u001b[32m━━━━━━━━━━━━━━━━━━━━\u001b[0m\u001b[37m\u001b[0m \u001b[1m0s\u001b[0m 1ms/step - loss: 15503.2871\n",
      "Epoch 21/50\n",
      "\u001b[1m42/42\u001b[0m \u001b[32m━━━━━━━━━━━━━━━━━━━━\u001b[0m\u001b[37m\u001b[0m \u001b[1m0s\u001b[0m 1ms/step - loss: 14900.3457\n",
      "Epoch 22/50\n",
      "\u001b[1m42/42\u001b[0m \u001b[32m━━━━━━━━━━━━━━━━━━━━\u001b[0m\u001b[37m\u001b[0m \u001b[1m0s\u001b[0m 2ms/step - loss: 14501.3652\n",
      "Epoch 23/50\n",
      "\u001b[1m42/42\u001b[0m \u001b[32m━━━━━━━━━━━━━━━━━━━━\u001b[0m\u001b[37m\u001b[0m \u001b[1m0s\u001b[0m 1ms/step - loss: 13876.9805\n",
      "Epoch 24/50\n",
      "\u001b[1m42/42\u001b[0m \u001b[32m━━━━━━━━━━━━━━━━━━━━\u001b[0m\u001b[37m\u001b[0m \u001b[1m0s\u001b[0m 1ms/step - loss: 13344.2188\n",
      "Epoch 25/50\n",
      "\u001b[1m42/42\u001b[0m \u001b[32m━━━━━━━━━━━━━━━━━━━━\u001b[0m\u001b[37m\u001b[0m \u001b[1m0s\u001b[0m 1ms/step - loss: 12780.6641\n",
      "Epoch 26/50\n",
      "\u001b[1m42/42\u001b[0m \u001b[32m━━━━━━━━━━━━━━━━━━━━\u001b[0m\u001b[37m\u001b[0m \u001b[1m0s\u001b[0m 1ms/step - loss: 12271.4150\n",
      "Epoch 27/50\n",
      "\u001b[1m42/42\u001b[0m \u001b[32m━━━━━━━━━━━━━━━━━━━━\u001b[0m\u001b[37m\u001b[0m \u001b[1m0s\u001b[0m 2ms/step - loss: 11836.3320\n",
      "Epoch 28/50\n",
      "\u001b[1m42/42\u001b[0m \u001b[32m━━━━━━━━━━━━━━━━━━━━\u001b[0m\u001b[37m\u001b[0m \u001b[1m0s\u001b[0m 1ms/step - loss: 11271.6299 \n",
      "Epoch 29/50\n",
      "\u001b[1m42/42\u001b[0m \u001b[32m━━━━━━━━━━━━━━━━━━━━\u001b[0m\u001b[37m\u001b[0m \u001b[1m0s\u001b[0m 1ms/step - loss: 10852.3711\n",
      "Epoch 30/50\n",
      "\u001b[1m42/42\u001b[0m \u001b[32m━━━━━━━━━━━━━━━━━━━━\u001b[0m\u001b[37m\u001b[0m \u001b[1m0s\u001b[0m 1ms/step - loss: 10303.6787\n",
      "Epoch 31/50\n",
      "\u001b[1m42/42\u001b[0m \u001b[32m━━━━━━━━━━━━━━━━━━━━\u001b[0m\u001b[37m\u001b[0m \u001b[1m0s\u001b[0m 1ms/step - loss: 10025.2627\n",
      "Epoch 32/50\n",
      "\u001b[1m42/42\u001b[0m \u001b[32m━━━━━━━━━━━━━━━━━━━━\u001b[0m\u001b[37m\u001b[0m \u001b[1m0s\u001b[0m 2ms/step - loss: 9586.4189\n",
      "Epoch 33/50\n",
      "\u001b[1m42/42\u001b[0m \u001b[32m━━━━━━━━━━━━━━━━━━━━\u001b[0m\u001b[37m\u001b[0m \u001b[1m0s\u001b[0m 1ms/step - loss: 9284.5430 \n",
      "Epoch 34/50\n",
      "\u001b[1m42/42\u001b[0m \u001b[32m━━━━━━━━━━━━━━━━━━━━\u001b[0m\u001b[37m\u001b[0m \u001b[1m0s\u001b[0m 1ms/step - loss: 8777.3643\n",
      "Epoch 35/50\n",
      "\u001b[1m42/42\u001b[0m \u001b[32m━━━━━━━━━━━━━━━━━━━━\u001b[0m\u001b[37m\u001b[0m \u001b[1m0s\u001b[0m 1ms/step - loss: 8310.9814 \n",
      "Epoch 36/50\n",
      "\u001b[1m42/42\u001b[0m \u001b[32m━━━━━━━━━━━━━━━━━━━━\u001b[0m\u001b[37m\u001b[0m \u001b[1m0s\u001b[0m 1ms/step - loss: 7957.5044\n",
      "Epoch 37/50\n",
      "\u001b[1m42/42\u001b[0m \u001b[32m━━━━━━━━━━━━━━━━━━━━\u001b[0m\u001b[37m\u001b[0m \u001b[1m0s\u001b[0m 1ms/step - loss: 7605.1763 \n",
      "Epoch 38/50\n",
      "\u001b[1m42/42\u001b[0m \u001b[32m━━━━━━━━━━━━━━━━━━━━\u001b[0m\u001b[37m\u001b[0m \u001b[1m0s\u001b[0m 1ms/step - loss: 7344.4580\n",
      "Epoch 39/50\n",
      "\u001b[1m42/42\u001b[0m \u001b[32m━━━━━━━━━━━━━━━━━━━━\u001b[0m\u001b[37m\u001b[0m \u001b[1m0s\u001b[0m 1ms/step - loss: 7070.1982\n",
      "Epoch 40/50\n",
      "\u001b[1m42/42\u001b[0m \u001b[32m━━━━━━━━━━━━━━━━━━━━\u001b[0m\u001b[37m\u001b[0m \u001b[1m0s\u001b[0m 1ms/step - loss: 6663.8506\n",
      "Epoch 41/50\n",
      "\u001b[1m42/42\u001b[0m \u001b[32m━━━━━━━━━━━━━━━━━━━━\u001b[0m\u001b[37m\u001b[0m \u001b[1m0s\u001b[0m 1ms/step - loss: 6323.1016\n",
      "Epoch 42/50\n",
      "\u001b[1m42/42\u001b[0m \u001b[32m━━━━━━━━━━━━━━━━━━━━\u001b[0m\u001b[37m\u001b[0m \u001b[1m0s\u001b[0m 1ms/step - loss: 6031.0957 \n",
      "Epoch 43/50\n",
      "\u001b[1m42/42\u001b[0m \u001b[32m━━━━━━━━━━━━━━━━━━━━\u001b[0m\u001b[37m\u001b[0m \u001b[1m0s\u001b[0m 1ms/step - loss: 5860.6758\n",
      "Epoch 44/50\n",
      "\u001b[1m42/42\u001b[0m \u001b[32m━━━━━━━━━━━━━━━━━━━━\u001b[0m\u001b[37m\u001b[0m \u001b[1m0s\u001b[0m 1ms/step - loss: 5563.1475\n",
      "Epoch 45/50\n",
      "\u001b[1m42/42\u001b[0m \u001b[32m━━━━━━━━━━━━━━━━━━━━\u001b[0m\u001b[37m\u001b[0m \u001b[1m0s\u001b[0m 1ms/step - loss: 5294.7393\n",
      "Epoch 46/50\n",
      "\u001b[1m42/42\u001b[0m \u001b[32m━━━━━━━━━━━━━━━━━━━━\u001b[0m\u001b[37m\u001b[0m \u001b[1m0s\u001b[0m 1ms/step - loss: 4974.4917\n",
      "Epoch 47/50\n",
      "\u001b[1m42/42\u001b[0m \u001b[32m━━━━━━━━━━━━━━━━━━━━\u001b[0m\u001b[37m\u001b[0m \u001b[1m0s\u001b[0m 1ms/step - loss: 4759.5576 \n",
      "Epoch 48/50\n",
      "\u001b[1m42/42\u001b[0m \u001b[32m━━━━━━━━━━━━━━━━━━━━\u001b[0m\u001b[37m\u001b[0m \u001b[1m0s\u001b[0m 1ms/step - loss: 4558.0557\n",
      "Epoch 49/50\n",
      "\u001b[1m42/42\u001b[0m \u001b[32m━━━━━━━━━━━━━━━━━━━━\u001b[0m\u001b[37m\u001b[0m \u001b[1m0s\u001b[0m 1ms/step - loss: 4278.1118\n",
      "Epoch 50/50\n",
      "\u001b[1m42/42\u001b[0m \u001b[32m━━━━━━━━━━━━━━━━━━━━\u001b[0m\u001b[37m\u001b[0m \u001b[1m0s\u001b[0m 1ms/step - loss: 4085.4541\n"
     ]
    },
    {
     "data": {
      "text/plain": [
       "<keras.src.callbacks.history.History at 0x1370df670>"
      ]
     },
     "execution_count": 5,
     "metadata": {},
     "output_type": "execute_result"
    }
   ],
   "source": [
    "from tensorflow.keras.models import Sequential\n",
    "from tensorflow.keras.layers import LSTM, Dense\n",
    "\n",
    "# Convert X to a NumPy array and reshape it\n",
    "X = X.values.reshape(X.shape[0], X.shape[1], 1)  # Adjust shape based on your data\n",
    "y = y.values  # Ensure y is also a NumPy array\n",
    "\n",
    "# Define the LSTM model\n",
    "model = Sequential()\n",
    "model.add(LSTM(64, input_shape=(X.shape[1], X.shape[2]), return_sequences=False))\n",
    "model.add(Dense(1))\n",
    "model.compile(optimizer='adam', loss='mse')\n",
    "\n",
    "# Train the model\n",
    "model.fit(X, y, epochs=50, batch_size=32)\n"
   ]
  },
  {
   "cell_type": "code",
   "execution_count": 6,
   "metadata": {},
   "outputs": [
    {
     "name": "stdout",
     "output_type": "stream",
     "text": [
      "\u001b[1m42/42\u001b[0m \u001b[32m━━━━━━━━━━━━━━━━━━━━\u001b[0m\u001b[37m\u001b[0m \u001b[1m0s\u001b[0m 3ms/step\n",
      "RMSE: 62.59151503124245\n",
      "R² Score: -16.48063087463379\n"
     ]
    }
   ],
   "source": [
    "from sklearn.metrics import mean_squared_error, r2_score\n",
    "import numpy as np\n",
    "\n",
    "# Generate predictions\n",
    "y_pred = model.predict(X)\n",
    "\n",
    "# Calculate RMSE\n",
    "rmse = np.sqrt(mean_squared_error(y, y_pred))\n",
    "print(f\"RMSE: {rmse}\")\n",
    "\n",
    "# Calculate R² Score\n",
    "r2 = r2_score(y, y_pred)\n",
    "print(f\"R² Score: {r2}\")\n"
   ]
  },
  {
   "cell_type": "code",
   "execution_count": 7,
   "metadata": {},
   "outputs": [
    {
     "name": "stdout",
     "output_type": "stream",
     "text": [
      "Epoch 1/5\n"
     ]
    },
    {
     "name": "stderr",
     "output_type": "stream",
     "text": [
      "/opt/homebrew/lib/python3.10/site-packages/keras/src/layers/rnn/rnn.py:200: UserWarning: Do not pass an `input_shape`/`input_dim` argument to a layer. When using Sequential models, prefer using an `Input(shape)` object as the first layer in the model instead.\n",
      "  super().__init__(**kwargs)\n"
     ]
    },
    {
     "name": "stdout",
     "output_type": "stream",
     "text": [
      "\u001b[1m3/3\u001b[0m \u001b[32m━━━━━━━━━━━━━━━━━━━━\u001b[0m\u001b[37m\u001b[0m \u001b[1m1s\u001b[0m 5ms/step - loss: 3.0069  \n",
      "Epoch 2/5\n",
      "\u001b[1m3/3\u001b[0m \u001b[32m━━━━━━━━━━━━━━━━━━━━\u001b[0m\u001b[37m\u001b[0m \u001b[1m0s\u001b[0m 5ms/step - loss: 2.6062 \n",
      "Epoch 3/5\n",
      "\u001b[1m3/3\u001b[0m \u001b[32m━━━━━━━━━━━━━━━━━━━━\u001b[0m\u001b[37m\u001b[0m \u001b[1m0s\u001b[0m 5ms/step - loss: 2.1395\n",
      "Epoch 4/5\n",
      "\u001b[1m3/3\u001b[0m \u001b[32m━━━━━━━━━━━━━━━━━━━━\u001b[0m\u001b[37m\u001b[0m \u001b[1m0s\u001b[0m 5ms/step - loss: 2.0703\n",
      "Epoch 5/5\n",
      "\u001b[1m3/3\u001b[0m \u001b[32m━━━━━━━━━━━━━━━━━━━━\u001b[0m\u001b[37m\u001b[0m \u001b[1m0s\u001b[0m 5ms/step - loss: 1.7028\n",
      "\u001b[1m1/1\u001b[0m \u001b[32m━━━━━━━━━━━━━━━━━━━━\u001b[0m\u001b[37m\u001b[0m \u001b[1m0s\u001b[0m 87ms/step\n",
      "RMSE: 1.4744441969424236\n",
      "R² Score: -12.04391413938313\n"
     ]
    },
    {
     "data": {
      "text/plain": [
       "Text(0, 0.5, 'Y-axis Label')"
      ]
     },
     "execution_count": 7,
     "metadata": {},
     "output_type": "execute_result"
    },
    {
     "data": {
      "image/png": "[encoded data removed]",
      "text/plain": [
       "<Figure size 640x480 with 1 Axes>"
      ]
     },
     "metadata": {},
     "output_type": "display_data"
    }
   ],
   "source": [
    "import numpy as np\n",
    "from sklearn.metrics import mean_squared_error, r2_score\n",
    "from tensorflow.keras.models import Sequential\n",
    "from tensorflow.keras.layers import LSTM, Dense\n",
    "\n",
    "# Sample test data (replace with actual data)\n",
    "X_test = np.array([[[0.1], [0.2], [0.3]], [[0.4], [0.5], [0.6]], [[0.7], [0.8], [0.9]]])  # Example shape\n",
    "y_test = np.array([1.0, 1.5, 2.0])  # Example target values\n",
    "\n",
    "# Define and train a simple LSTM model for demonstration (use your actual model instead)\n",
    "model = Sequential()\n",
    "model.add(LSTM(32, input_shape=(X_test.shape[1], X_test.shape[2]), return_sequences=False))\n",
    "model.add(Dense(1))\n",
    "model.compile(optimizer='adam', loss='mse')\n",
    "\n",
    "# Train the model with dummy data\n",
    "model.fit(X_test, y_test, epochs=5, batch_size=1)\n",
    "\n",
    "# Step 1: Generate predictions\n",
    "y_pred = model.predict(X_test)\n",
    "\n",
    "# Step 2: Calculate RMSE\n",
    "rmse = np.sqrt(mean_squared_error(y_test, y_pred))\n",
    "print(f\"RMSE: {rmse}\")\n",
    "\n",
    "# Step 3: Calculate R² Score\n",
    "r2 = r2_score(y_test, y_pred)\n",
    "print(f\"R² Score: {r2}\")\n",
    "\n",
    "# Step 4: Plot the actual vs predicted values using your provided code\n",
    "import matplotlib.pyplot as plt\n",
    "\n",
    "# Sample data for plot (adjust as needed to reflect actual results)\n",
    "x = [1, 2, 3, 4, 5]  # Example x-axis values (you can replace this with actual data points)\n",
    "y_actual = [2, 3, 5, 7, 11]  # Replace with actual test target values\n",
    "y_predicted = [2.2, 2.8, 4.9, 7.1, 10.8]  # Replace with predicted values from the model\n",
    "\n",
    "# Plot the actual values\n",
    "plt.plot(x, y_actual, label='Actual')\n",
    "\n",
    "# Plot the predicted values\n",
    "plt.plot(x, y_predicted, label='Predicted', linestyle='--')\n",
    "\n",
    "# Add legend, title, and axis labels\n",
    "plt.legend()\n",
    "plt.title('Actual vs. Predicted Values')\n",
    "plt.xlabel('X-axis Label')\n",
    "plt.ylabel('Y-axis Label')\n",
    "\n",
    "#\n"
   ]
  },
  {
   "cell_type": "code",
   "execution_count": null,
   "metadata": {},
   "outputs": [],
   "source": [
    "model.save('lstm_air_quality_model.h5')\n"
   ]
  },
  {
   "cell_type": "code",
   "execution_count": 8,
   "metadata": {},
   "outputs": [
    {
     "name": "stdout",
     "output_type": "stream",
     "text": [
      "Columns in DataFrame: Index(['created_at', 'entry_id', 'field1', 'field2', 'field3', 'field4',\n",
      "       'field5', 'field6', 'field7', 'latitude', 'longitude', 'elevation',\n",
      "       'status'],\n",
      "      dtype='object')\n",
      "Warning: Missing columns in dataset: {'CO (mg/m3)', 'AH (g/m3)', 'RH (%)', 'PM2.5 (μg/m3)', 'T (°C)'}\n"
     ]
    }
   ],
   "source": [
    "# Verify and clean column names\n",
    "df.columns = df.columns.str.strip()\n",
    "\n",
    "# Print the column names to verify\n",
    "print(\"Columns in DataFrame:\", df.columns)\n",
    "\n",
    "# Check if the required columns exist in the DataFrame\n",
    "required_columns = ['PM2.5 (μg/m3)', 'CO (mg/m3)', 'T (°C)', 'RH (%)', 'AH (g/m3)']\n",
    "missing_columns = set(required_columns) - set(df.columns)\n",
    "\n",
    "if missing_columns:\n",
    "    print(f\"Warning: Missing columns in dataset: {missing_columns}\")\n",
    "    for col in missing_columns:\n",
    "        df[col] = 0  # Fill missing columns with zeros or appropriate default values\n",
    "else:\n",
    "    # Convert the DataFrame to NumPy array and create sequences\n",
    "    features = df[required_columns].values\n",
    "    print(\"Features array created successfully.\")\n",
    "\n",
    "try:\n",
    "    features = df[required_columns].values\n",
    "except KeyError as e:\n",
    "    print(f\"Error creating features array: {e}\")\n"
   ]
  },
  {
   "cell_type": "code",
   "execution_count": 11,
   "metadata": {},
   "outputs": [
    {
     "name": "stdout",
     "output_type": "stream",
     "text": [
      "RMSE: 148.63056067534248\n",
      "R² Score: -132545.2614\n"
     ]
    },
    {
     "name": "stderr",
     "output_type": "stream",
     "text": [
      "/opt/homebrew/lib/python3.10/site-packages/sklearn/utils/validation.py:2739: UserWarning: X does not have valid feature names, but RandomForestRegressor was fitted with feature names\n",
      "  warnings.warn(\n"
     ]
    }
   ],
   "source": [
    "from sklearn.metrics import mean_squared_error, r2_score\n",
    "import numpy as np\n",
    "\n",
    "# Make predictions\n",
    "y_pred = rf_model.predict(X_test.reshape(X_test.shape[0], -1))\n",
    "\n",
    "# Calculate RMSE\n",
    "# Calculates the root mean squared error (RMSE) between the true target values `y_test` and the predicted target values `y_pred`.\n",
    "# The RMSE is a commonly used metric to evaluate the performance of regression models, as it provides a measure of the average magnitude of the errors in the same units as the target variable.\n",
    "rmse = np.sqrt(mean_squared_error(y_test, y_pred))\n",
    "print(f\"RMSE: {rmse}\")\n",
    "\n",
    "# Calculate R² score\n",
    "r2 = r2_score(y_test, y_pred)\n",
    "print(f\"R² Score: {r2}\")"
   ]
  },
  {
   "cell_type": "code",
   "execution_count": 12,
   "metadata": {},
   "outputs": [
    {
     "name": "stdout",
     "output_type": "stream",
     "text": [
      "Data after filtering non-zero PM2.5 values:    PM2.5  CO   T  RH  AH\n",
      "0     10   1  25  60   5\n",
      "1     20   2  30  65   6\n",
      "2     30   3  35  70   7\n",
      "3     40   4  40  75   8\n",
      "4     50   5  45  80   9\n",
      "Data after normalization:    PM2.5    CO     T    RH    AH\n",
      "0   0.00  0.00  0.00  0.00  0.00\n",
      "1   0.25  0.25  0.25  0.25  0.25\n",
      "2   0.50  0.50  0.50  0.50  0.50\n",
      "3   0.75  0.75  0.75  0.75  0.75\n",
      "4   1.00  1.00  1.00  1.00  1.00\n"
     ]
    }
   ],
   "source": [
    "import pandas as pd\n",
    "from sklearn.preprocessing import MinMaxScaler\n",
    "\n",
    "# Sample data for demonstration\n",
    "data = {\n",
    "    'PM2.5': [10, 20, 30, 40, 50],\n",
    "    'CO': [1, 2, 3, 4, 5],\n",
    "    'T': [25, 30, 35, 40, 45],\n",
    "    'RH': [60, 65, 70, 75, 80],\n",
    "    'AH': [5, 6, 7, 8, 9]\n",
    "}\n",
    "df = pd.DataFrame(data)\n",
    "\n",
    "# Verify and clean column names\n",
    "df.columns = df.columns.str.strip()\n",
    "\n",
    "# Check if the required column exists in the DataFrame\n",
    "if 'PM2.5' not in df.columns:\n",
    "    print(\"Error: 'PM2.5' column is missing from the DataFrame.\")\n",
    "else:\n",
    "    # Filter out rows with zero PM2.5 values\n",
    "    df_filtered = df[df['PM2.5'] > 0]\n",
    "    print(\"Data after filtering non-zero PM2.5 values:\", df_filtered.head())\n",
    "\n",
    "    # Normalize all numerical columns in the filtered dataset\n",
    "    numerical_columns = df_filtered.select_dtypes(include=['int64', 'float64']).columns\n",
    "    scaler = MinMaxScaler()\n",
    "    df_filtered[numerical_columns] = scaler.fit_transform(df_filtered[numerical_columns])\n",
    "\n",
    "    print(\"Data after normalization:\", df_filtered.head())"
   ]
  },
  {
   "cell_type": "code",
   "execution_count": 13,
   "metadata": {},
   "outputs": [
    {
     "name": "stdout",
     "output_type": "stream",
     "text": [
      "Index(['PM2.5', 'CO', 'T', 'RH', 'AH'], dtype='object')\n"
     ]
    }
   ],
   "source": [
    "print(df.columns)"
   ]
  },
  {
   "cell_type": "code",
   "execution_count": 14,
   "metadata": {},
   "outputs": [
    {
     "name": "stdout",
     "output_type": "stream",
     "text": [
      "PM2.5 column has 5 non-zero values. Proceeding with model...\n"
     ]
    }
   ],
   "source": [
    "if df_filtered.empty:\n",
    "    print(\"Error: No non-zero PM2.5 values available for training.\")\n",
    "else:\n",
    "    print(f\"PM2.5 column has {len(df_filtered)} non-zero values. Proceeding with model...\")\n"
   ]
  },
  {
   "cell_type": "code",
   "execution_count": 15,
   "metadata": {},
   "outputs": [
    {
     "name": "stdout",
     "output_type": "stream",
     "text": [
      "Initial Columns: Index(['PM2.5', 'CO', 'T', 'RH', 'AH'], dtype='object')\n",
      "Data Preview:\n",
      "   PM2.5  CO   T  RH  AH\n",
      "0     10   1  25  60   5\n",
      "1     20   2  30  65   6\n",
      "2     30   3  35  70   7\n",
      "3     40   4  40  75   8\n",
      "4     50   5  45  80   9\n",
      "PM2.5 column found: 'PM2.5'\n",
      "Fitting ARIMA model on 'PM2.5'...\n",
      "Plotting actual vs. forecast...\n"
     ]
    },
    {
     "name": "stderr",
     "output_type": "stream",
     "text": [
      "/opt/homebrew/lib/python3.10/site-packages/statsmodels/tsa/statespace/sarimax.py:966: UserWarning: Non-stationary starting autoregressive parameters found. Using zeros as starting parameters.\n",
      "  warn('Non-stationary starting autoregressive parameters'\n",
      "/opt/homebrew/lib/python3.10/site-packages/statsmodels/base/model.py:607: ConvergenceWarning: Maximum Likelihood optimization failed to converge. Check mle_retvals\n",
      "  warnings.warn(\"Maximum Likelihood optimization failed to \"\n"
     ]
    },
    {
     "data": {
      "image/png": "[encoded data removed]",
      "text/plain": [
       "<Figure size 640x480 with 1 Axes>"
      ]
     },
     "metadata": {},
     "output_type": "display_data"
    }
   ],
   "source": [
    "import pandas as pd\n",
    "import matplotlib.pyplot as plt\n",
    "from statsmodels.tsa.arima.model import ARIMA\n",
    "\n",
    "# Assuming df is already loaded\n",
    "# Step 1: Print column names of the DataFrame\n",
    "print(\"Initial Columns:\", df.columns)\n",
    "\n",
    "# Step 2: Clean column names by removing leading/trailing whitespace\n",
    "df.columns = df.columns.str.strip()\n",
    "\n",
    "# Step 3: Verify the first few rows of the DataFrame to confirm data\n",
    "print(\"Data Preview:\")\n",
    "print(df.head())\n",
    "\n",
    "# Step 4: Identify the PM2.5 column\n",
    "pm25_column = None\n",
    "for col in df.columns:\n",
    "    if 'PM2.5' in col:\n",
    "        pm25_column = col\n",
    "        break\n",
    "\n",
    "# Step 5: Handle missing PM2.5 column scenario\n",
    "if not pm25_column:\n",
    "    print(\"Error: No column related to 'PM2.5' found in the DataFrame.\")\n",
    "    print(\"Available columns:\", df.columns.tolist())\n",
    "else:\n",
    "    print(f\"PM2.5 column found: '{pm25_column}'\")\n",
    "\n",
    "    # Step 6: Handle missing values in the PM2.5 column\n",
    "    if df[pm25_column].isnull().sum() > 0:\n",
    "        print(f\"Warning: NaN values detected in column '{pm25_column}'. Applying forward fill...\")\n",
    "        df[pm25_column].fillna(method='ffill', inplace=True)\n",
    "\n",
    "    # Verify if data is present after handling NaNs\n",
    "    if df[pm25_column].dropna().empty:\n",
    "        print(\"Error: No data available in the PM2.5 column after filling NaN values.\")\n",
    "    else:\n",
    "        # Step 7: Fit the ARIMA model\n",
    "        print(f\"Fitting ARIMA model on '{pm25_column}'...\")\n",
    "        model = ARIMA(df[pm25_column], order=(1, 1, 1))\n",
    "        model_fit = model.fit()\n",
    "\n",
    "        # Step 8: Generate forecast for the next 10 time steps\n",
    "        forecast = model_fit.forecast(steps=10)\n",
    "\n",
    "        # Use the last 20 rows of data to plot actual values\n",
    "        actual = df[pm25_column].dropna()[-20:]\n",
    "\n",
    "        # Step 9: Plot actual vs. forecast values\n",
    "        print(\"Plotting actual vs. forecast...\")\n",
    "        plt.plot(range(len(actual)), actual, label='Actual', marker='o', color='blue')\n",
    "        plt.plot(range(len(forecast)), forecast, label='Forecast', linestyle='--', marker='x', color='orange')\n",
    "        plt.legend()\n",
    "        plt.title('ARIMA Forecast vs. Actual')\n",
    "        plt.xlabel('Time Steps')\n",
    "        plt.ylabel('PM2.5 Values')\n",
    "        plt.grid(True)\n",
    "        plt.show()\n"
   ]
  }
 ],
 "metadata": {
  "kernelspec": {
   "display_name": "Python 3 (ipykernel)",
   "language": "python",
   "name": "python3"
  },
  "language_info": {
   "codemirror_mode": {
    "name": "ipython",
    "version": 3
   },
   "file_extension": ".py",
   "mimetype": "text/x-python",
   "name": "python",
   "nbconvert_exporter": "python",
   "pygments_lexer": "ipython3",
   "version": "3.10.16"
  }
 },
 "nbformat": 4,
 "nbformat_minor": 4
}
